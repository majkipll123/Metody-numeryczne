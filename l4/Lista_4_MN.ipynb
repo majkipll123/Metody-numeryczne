{
 "cells": [
  {
   "cell_type": "markdown",
   "id": "a63487e2",
   "metadata": {},
   "source": [
    "### Metody numeryczne 1 - Lista 4"
   ]
  },
  {
   "cell_type": "markdown",
   "id": "89944d84",
   "metadata": {},
   "source": [
    "#### Zadanie 1:\n",
    "\n",
    "Znajdź wszystkie pierwiastki funkcji\n",
    "\n",
    "$$f ( x) = 2 x^4 + 24 x^3 + 61x^2 -16 x +1$$\n",
    "\n",
    "korzystając z metody Riddera z modułu Scipy.\n",
    "\n",
    "#### Rozwiązanie:"
   ]
  },
  {
   "cell_type": "code",
   "execution_count": 1,
   "id": "25f8f197",
   "metadata": {},
   "outputs": [
    {
     "ename": "ValueError",
     "evalue": "f(a) and f(b) must have different signs",
     "output_type": "error",
     "traceback": [
      "\u001b[0;31m---------------------------------------------------------------------------\u001b[0m",
      "\u001b[0;31mValueError\u001b[0m                                Traceback (most recent call last)",
      "\u001b[1;32m/home/majkipll123/Documents/Github/Metody-numeryczne/l4/Lista_4_MN.ipynb Cell 3\u001b[0m line \u001b[0;36m9\n\u001b[1;32m      <a href='vscode-notebook-cell:/home/majkipll123/Documents/Github/Metody-numeryczne/l4/Lista_4_MN.ipynb#W2sZmlsZQ%3D%3D?line=5'>6</a>\u001b[0m     \u001b[39mreturn\u001b[39;00m \u001b[39m2\u001b[39m\u001b[39m*\u001b[39mx\u001b[39m*\u001b[39m\u001b[39m*\u001b[39m\u001b[39m4\u001b[39m \u001b[39m+\u001b[39m \u001b[39m24\u001b[39m\u001b[39m*\u001b[39mx\u001b[39m*\u001b[39m\u001b[39m*\u001b[39m\u001b[39m3\u001b[39m \u001b[39m+\u001b[39m \u001b[39m61\u001b[39m\u001b[39m*\u001b[39mx\u001b[39m*\u001b[39m\u001b[39m*\u001b[39m\u001b[39m2\u001b[39m \u001b[39m-\u001b[39m \u001b[39m16\u001b[39m\u001b[39m*\u001b[39mx \u001b[39m+\u001b[39m \u001b[39m1\u001b[39m\n\u001b[1;32m      <a href='vscode-notebook-cell:/home/majkipll123/Documents/Github/Metody-numeryczne/l4/Lista_4_MN.ipynb#W2sZmlsZQ%3D%3D?line=7'>8</a>\u001b[0m \u001b[39m# Use Ridders' method to find a root\u001b[39;00m\n\u001b[0;32m----> <a href='vscode-notebook-cell:/home/majkipll123/Documents/Github/Metody-numeryczne/l4/Lista_4_MN.ipynb#W2sZmlsZQ%3D%3D?line=8'>9</a>\u001b[0m sol \u001b[39m=\u001b[39m root_scalar(f, method\u001b[39m=\u001b[39;49m\u001b[39m'\u001b[39;49m\u001b[39mridder\u001b[39;49m\u001b[39m'\u001b[39;49m, bracket\u001b[39m=\u001b[39;49m[\u001b[39m-\u001b[39;49m\u001b[39m10\u001b[39;49m, \u001b[39m10\u001b[39;49m])\n\u001b[1;32m     <a href='vscode-notebook-cell:/home/majkipll123/Documents/Github/Metody-numeryczne/l4/Lista_4_MN.ipynb#W2sZmlsZQ%3D%3D?line=10'>11</a>\u001b[0m \u001b[39mprint\u001b[39m(\u001b[39m\"\u001b[39m\u001b[39mThe root is: \u001b[39m\u001b[39m\"\u001b[39m, sol\u001b[39m.\u001b[39mroot)\n",
      "File \u001b[0;32m~/.local/lib/python3.10/site-packages/scipy/optimize/_root_scalar.py:279\u001b[0m, in \u001b[0;36mroot_scalar\u001b[0;34m(f, args, method, bracket, fprime, fprime2, x0, x1, xtol, rtol, maxiter, options)\u001b[0m\n\u001b[1;32m    277\u001b[0m a, b \u001b[39m=\u001b[39m bracket[:\u001b[39m2\u001b[39m]\n\u001b[1;32m    278\u001b[0m \u001b[39mtry\u001b[39;00m:\n\u001b[0;32m--> 279\u001b[0m     r, sol \u001b[39m=\u001b[39m methodc(f, a, b, args\u001b[39m=\u001b[39;49margs, \u001b[39m*\u001b[39;49m\u001b[39m*\u001b[39;49mkwargs)\n\u001b[1;32m    280\u001b[0m \u001b[39mexcept\u001b[39;00m \u001b[39mValueError\u001b[39;00m \u001b[39mas\u001b[39;00m e:\n\u001b[1;32m    281\u001b[0m     \u001b[39m# gh-17622 fixed some bugs in low-level solvers by raising an error\u001b[39;00m\n\u001b[1;32m    282\u001b[0m     \u001b[39m# (rather than returning incorrect results) when the callable\u001b[39;00m\n\u001b[1;32m    283\u001b[0m     \u001b[39m# returns a NaN. It did so by wrapping the callable rather than\u001b[39;00m\n\u001b[1;32m    284\u001b[0m     \u001b[39m# modifying compiled code, so the iteration count is not available.\u001b[39;00m\n\u001b[1;32m    285\u001b[0m     \u001b[39mif\u001b[39;00m \u001b[39mhasattr\u001b[39m(e, \u001b[39m\"\u001b[39m\u001b[39m_x\u001b[39m\u001b[39m\"\u001b[39m):\n",
      "File \u001b[0;32m~/.local/lib/python3.10/site-packages/scipy/optimize/_zeros_py.py:671\u001b[0m, in \u001b[0;36mridder\u001b[0;34m(f, a, b, args, xtol, rtol, maxiter, full_output, disp)\u001b[0m\n\u001b[1;32m    669\u001b[0m     \u001b[39mraise\u001b[39;00m \u001b[39mValueError\u001b[39;00m(\u001b[39mf\u001b[39m\u001b[39m\"\u001b[39m\u001b[39mrtol too small (\u001b[39m\u001b[39m{\u001b[39;00mrtol\u001b[39m:\u001b[39;00m\u001b[39mg\u001b[39m\u001b[39m}\u001b[39;00m\u001b[39m < \u001b[39m\u001b[39m{\u001b[39;00m_rtol\u001b[39m:\u001b[39;00m\u001b[39mg\u001b[39m\u001b[39m}\u001b[39;00m\u001b[39m)\u001b[39m\u001b[39m\"\u001b[39m)\n\u001b[1;32m    670\u001b[0m f \u001b[39m=\u001b[39m _wrap_nan_raise(f)\n\u001b[0;32m--> 671\u001b[0m r \u001b[39m=\u001b[39m _zeros\u001b[39m.\u001b[39;49m_ridder(f, a, b, xtol, rtol, maxiter, args, full_output, disp)\n\u001b[1;32m    672\u001b[0m \u001b[39mreturn\u001b[39;00m results_c(full_output, r)\n",
      "\u001b[0;31mValueError\u001b[0m: f(a) and f(b) must have different signs"
     ]
    }
   ],
   "source": []
  },
  {
   "cell_type": "markdown",
   "id": "736b7c02",
   "metadata": {},
   "source": [
    "#### Zadanie 2:\n",
    "\n",
    "Korzystając z metody Newtona napisz program do obliczania pierwiastka piątego stopnia z dowolnej liczby dodatniej.  \n",
    "\n",
    "#### Rozwiązanie:"
   ]
  },
  {
   "cell_type": "code",
   "execution_count": null,
   "id": "86e75c63",
   "metadata": {},
   "outputs": [],
   "source": []
  },
  {
   "cell_type": "markdown",
   "id": "5e9b8586",
   "metadata": {},
   "source": [
    "#### Zadanie 3:\n",
    "\n",
    "Prędkość $v$ rakiety Saturn V w locie pionowym tuż przy powierzchni Ziemi można przybliżyć wzorem\n",
    "\n",
    "$$v=u\\ln\\frac{M_0}{M_0-\\dot{m}t}-gt\\,$$\n",
    "\n",
    "gdzie\n",
    "\n",
    "- $u=2510\\,$m/s - prędkość spalin względem rakiety,\n",
    "- $M_0=2.8\\times 10^6\\,$kg - masa rakiety w momencie oderwania od Ziemi,\n",
    "- $\\dot{m}=13.3\\times10^3\\,$kg/s - szybkość zużycia paliwa,\n",
    "- $g=9.81\\,$m/s$^2$ - przyspieszenie ziemskie\n",
    "- $t$ - czas mierzony od oderwania od Ziemi\n",
    "\n",
    "Wyznacz czas, po jakim rakieta osiągnie prędkość dźwięku (335$\\,$m/s).\n",
    "\n",
    "#### Rozwiązanie:"
   ]
  },
  {
   "cell_type": "code",
   "execution_count": null,
   "id": "e95a9420",
   "metadata": {},
   "outputs": [],
   "source": []
  },
  {
   "cell_type": "markdown",
   "id": "bbca94c0",
   "metadata": {},
   "source": [
    "#### Zadanie 4:\n",
    "\n",
    "Znajdź pierwiastki układu równań\n",
    "\n",
    "$$\\begin{eqnarray}\n",
    "x+e^{-x}+y^3&=& 0\\\\\n",
    "x^2+2xy-y^2+\\tan x&=& 0\n",
    "\\end{eqnarray}$$\n",
    "\n",
    "leżące w kole o promieniu 2 i środku w $(0,0)$.\n",
    "\n",
    "#### Rozwiązanie:"
   ]
  },
  {
   "cell_type": "code",
   "execution_count": null,
   "id": "c55de682",
   "metadata": {},
   "outputs": [],
   "source": []
  },
  {
   "cell_type": "markdown",
   "id": "ebbcb594",
   "metadata": {},
   "source": [
    "#### Zadanie 5:\n",
    "\n",
    "Koszykarz o wzroście 2 m rzuca piłkę z odległości 10 m do kosza zawieszonego na wysokości $3\\,$m. Z jaką prędkością $v_0$ i pod jakim kątem $\\alpha$ powinien wyrzucić piłkę, aby wpadła do kosza pod kątem $45^\\circ$. Potraktuj piłkę\n",
    "jako punkt materialny, którego trajektorię opisują równania\n",
    "\n",
    "$$\\begin{eqnarray}\n",
    "x &=& v_0\\cos(\\alpha)t\\\\\n",
    "y &=& 2+v_0\\sin(\\alpha)t-\\frac{gt^2}{2}\n",
    "\\end{eqnarray}$$\n",
    "\n",
    "gdzie $g=9.81$ m/s$^2$ jest przyspieszeniem ziemskim, a $t$ czasem lotu piłki.\n",
    "\n",
    "#### Rozwiązanie:"
   ]
  },
  {
   "cell_type": "code",
   "execution_count": null,
   "id": "aa724e26",
   "metadata": {},
   "outputs": [],
   "source": []
  },
  {
   "cell_type": "markdown",
   "id": "370f3178",
   "metadata": {},
   "source": [
    "#### Zadanie 6:\n",
    "\n",
    "Korzystając z dowolnej metody wyznacz wszystkie rozwiązania rzeczywiste układu równań\n",
    "\n",
    "\n",
    "$$\\begin{eqnarray}\n",
    "\\tan x-y&=& 1\\\\\n",
    "\\cos x-3\\sin y&=& 0\n",
    "\\end{eqnarray}$$\n",
    "\n",
    "dla $0\\leq x\\leq 1.5\\,$.\n",
    "\n",
    "#### Rozwiązanie:"
   ]
  },
  {
   "cell_type": "code",
   "execution_count": null,
   "id": "eecfbe8d",
   "metadata": {},
   "outputs": [],
   "source": []
  },
  {
   "cell_type": "markdown",
   "id": "6780cd35",
   "metadata": {},
   "source": [
    "#### Zadanie 7:\n",
    "\n",
    "Znajdź wszystkie pierwiastki wielomianu\n",
    "\n",
    "$$w(x)=x^4+(5+i)x^3-(8-5i)x^2+(30-14i)x-84$$\n",
    "\n",
    "#### Rozwiązanie:"
   ]
  },
  {
   "cell_type": "code",
   "execution_count": null,
   "id": "d6ce23cc",
   "metadata": {},
   "outputs": [],
   "source": []
  }
 ],
 "metadata": {
  "kernelspec": {
   "display_name": "Python 3 (ipykernel)",
   "language": "python",
   "name": "python3"
  },
  "language_info": {
   "codemirror_mode": {
    "name": "ipython",
    "version": 3
   },
   "file_extension": ".py",
   "mimetype": "text/x-python",
   "name": "python",
   "nbconvert_exporter": "python",
   "pygments_lexer": "ipython3",
   "version": "3.10.12"
  }
 },
 "nbformat": 4,
 "nbformat_minor": 5
}
