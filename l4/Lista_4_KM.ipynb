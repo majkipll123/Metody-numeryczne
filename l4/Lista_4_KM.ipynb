{
 "cells": [
  {
   "cell_type": "markdown",
   "id": "a63487e2",
   "metadata": {},
   "source": [
    "### Metody numeryczne 1 - Lista 4"
   ]
  },
  {
   "cell_type": "markdown",
   "id": "89944d84",
   "metadata": {},
   "source": [
    "#### Zadanie 1:\n",
    "\n",
    "Znajdź wszystkie pierwiastki funkcji\n",
    "\n",
    "$$f ( x) = 2 x^4 + 24 x^3 + 61x^2 -16 x +1$$\n",
    "\n",
    "korzystając z metody Riddera z modułu Scipy.\n",
    "\n",
    "#### Rozwiązanie:"
   ]
  },
  {
   "cell_type": "code",
   "execution_count": 17,
   "id": "25f8f197",
   "metadata": {},
   "outputs": [
    {
     "name": "stdout",
     "output_type": "stream",
     "text": [
      "Rozwiazanie nr 1 = -8.123105625617665\n",
      "Rozwiazanie nr 2 = -4.121320343558645\n",
      "Rozwiazanie nr 3 = 0.12132034356064102\n",
      "Rozwiazanie nr 4 = 0.12310562561858751\n"
     ]
    }
   ],
   "source": [
    "import numpy as np\n",
    "from scipy import optimize as oz\n",
    "\n",
    "def f(x):\n",
    "    return (2 * x ** 4 + 24 * x ** 3 + 61 * x ** 2 - 16 * x + 1)\n",
    "\n",
    "a = -15\n",
    "n = 1\n",
    "\n",
    "for i in np.arange(-10, 10, 0.001):\n",
    "    if np.sign(f(a)) != np.sign(f(i)):\n",
    "        root = oz.ridder(f, a, i)\n",
    "        print(\"Rozwiazanie nr\", n, \"=\", root)\n",
    "        n+=1\n",
    "    a = i\n"
   ]
  },
  {
   "cell_type": "markdown",
   "id": "736b7c02",
   "metadata": {},
   "source": [
    "#### Zadanie 2:\n",
    "\n",
    "Korzystając z metody Newtona napisz program do obliczania pierwiastka piątego stopnia z dowolnej liczby dodatniej.  \n",
    "\n",
    "#### Rozwiązanie:"
   ]
  },
  {
   "cell_type": "code",
   "execution_count": 11,
   "id": "86e75c63",
   "metadata": {},
   "outputs": [
    {
     "name": "stdout",
     "output_type": "stream",
     "text": [
      "Pierwiastek 5 tego stopnia z liczby 32.0  =  2.0\n"
     ]
    }
   ],
   "source": [
    "import math\n",
    "\n",
    "def pierwiastek(n, i = 100):\n",
    "    przyblizenie = 1.0\n",
    "\n",
    "    for j in range(i):\n",
    "        przyblizenie = przyblizenie - (math.pow(przyblizenie, 5) - n) / (5 * math.pow(przyblizenie, 4))\n",
    "\n",
    "    return przyblizenie\n",
    "\n",
    "n = float(input('Podaj liczbe a ja podam jej pierwiastek 5 stopnia: '))\n",
    "\n",
    "if n <= 0:\n",
    "    print(\"Nie można obliczyć pierwiastka z liczby ujemnej\")\n",
    "else:\n",
    "    wynik = pierwiastek(n)\n",
    "\n",
    "    print(\"Pierwiastek 5 tego stopnia z liczby\", n, \" = \", wynik)\n"
   ]
  },
  {
   "cell_type": "markdown",
   "id": "5e9b8586",
   "metadata": {},
   "source": [
    "#### Zadanie 3:\n",
    "\n",
    "Prędkość $v$ rakiety Saturn V w locie pionowym tuż przy powierzchni Ziemi można przybliżyć wzorem\n",
    "\n",
    "$$v=u\\ln\\frac{M_0}{M_0-\\dot{m}t}-gt\\,$$\n",
    "\n",
    "gdzie\n",
    "\n",
    "- $u=2510\\,$m/s - prędkość spalin względem rakiety,\n",
    "- $M_0=2.8\\times 10^6\\,$kg - masa rakiety w momencie oderwania od Ziemi,\n",
    "- $\\dot{m}=13.3\\times10^3\\,$kg/s - szybkość zużycia paliwa,\n",
    "- $g=9.81\\,$m/s$^2$ - przyspieszenie ziemskie\n",
    "- $t$ - czas mierzony od oderwania od Ziemi\n",
    "\n",
    "Wyznacz czas, po jakim rakieta osiągnie prędkość dźwięku (335$\\,$m/s).\n",
    "\n",
    "#### Rozwiązanie:"
   ]
  },
  {
   "cell_type": "code",
   "execution_count": 25,
   "id": "e95a9420",
   "metadata": {},
   "outputs": [
    {
     "name": "stdout",
     "output_type": "stream",
     "text": [
      "czas do wykonania zadania to 72.68928201155734\n"
     ]
    }
   ],
   "source": [
    "import math\n",
    "from scipy import optimize as oz\n",
    "\n",
    "# Dane\n",
    "u = 2510\n",
    "M0 = 2.8 * (10e6)\n",
    "m = 13.3 * (10e3)\n",
    "g = 9.81\n",
    "\n",
    "# Definicja funkcji\n",
    "def f(t):\n",
    "    return u * math.log(M0 / (M0 - m * t)) - g * t - 350\n",
    "\n",
    "# Znajdowanie miejsca zerowego funkcji za pomocą metody Newtona\n",
    "czas_wystrzalu = oz.newton(f, 0)\n",
    "\n",
    "print(f\"czas do wykonania zadania to {(czas_wystrzalu)}\")\n"
   ]
  },
  {
   "cell_type": "markdown",
   "id": "bbca94c0",
   "metadata": {},
   "source": [
    "#### Zadanie 4:\n",
    "\n",
    "Znajdź pierwiastki układu równań\n",
    "\n",
    "$$\\begin{align*}\n",
    "x+e^{-x}+y^3&=& 0\\\\\n",
    "x^2+2xy-y^2+\\tan x&=& 0\n",
    "\\end{align*}$$\n",
    "\n",
    "leżące w kole o promieniu 2 i środku w $(0,0)$.\n",
    "\n",
    "#### Rozwiązanie:"
   ]
  },
  {
   "cell_type": "code",
   "execution_count": 3,
   "id": "c55de682",
   "metadata": {},
   "outputs": [
    {
     "name": "stdout",
     "output_type": "stream",
     "text": [
      "rozwiazanie z osi x = 1.2066798999909842 \n",
      " rozwiazanie z osi y = -1.146205228275508\n"
     ]
    }
   ],
   "source": [
    "import numpy as np\n",
    "from scipy.optimize import fsolve as fs\n",
    "\n",
    "def rownania(n):\n",
    "    x, y = n\n",
    "    rownanie1 = x + np.exp(-x) + y ** 3\n",
    "    rownanie2 = x ** 2 + 2 * x * y - y ** 2 + np.tan(x)\n",
    "\n",
    "    return [rownanie1, rownanie2]\n",
    "\n",
    "result = fs(rownania, [1, 1])\n",
    "\n",
    "print(\"rozwiazanie z osi x =\", result[0], \"\\n rozwiazanie z osi y =\", result[1])"
   ]
  },
  {
   "cell_type": "markdown",
   "id": "ebbcb594",
   "metadata": {},
   "source": [
    "#### Zadanie 5:\n",
    "\n",
    "Koszykarz o wzroście 2 m rzuca piłkę z odległości 10 m do kosza zawieszonego na wysokości $3\\,$m. Z jaką prędkością $v_0$ i pod jakim kątem $\\alpha$ powinien wyrzucić piłkę, aby wpadła do kosza pod kątem $45^\\circ$. Potraktuj piłkę\n",
    "jako punkt materialny, którego trajektorię opisują równania\n",
    "\n",
    "$$\\begin{align*}\n",
    "x &=& v_0\\cos(\\alpha)t\\\\\n",
    "y &=& 2+v_0\\sin(\\alpha)t-\\frac{gt^2}{2}\n",
    "\\end{align*}$$\n",
    "\n",
    "gdzie $g=9.81$ m/s$^2$ jest przyspieszeniem ziemskim, a $t$ czasem lotu piłki.\n",
    "\n",
    "#### Rozwiązanie:"
   ]
  },
  {
   "cell_type": "code",
   "execution_count": 2,
   "id": "aa724e26",
   "metadata": {},
   "outputs": [
    {
     "name": "stdout",
     "output_type": "stream",
     "text": [
      "Prędkość początkowa: 9.904544493160012 m/s\n",
      "Kąt rzutu: 45.0000000028148 stopni\n"
     ]
    }
   ],
   "source": [
    "import math \n",
    "from scipy.optimize import minimize as mi\n",
    "\n",
    "g = 9.81\n",
    "h = 3\n",
    "\n",
    "def h_diff(p):\n",
    "    v0, alpha = p\n",
    "    t = 2 * v0 * math.sin(math.radians(alpha)) / g\n",
    "    x = v0 * math.cos(math.radians(alpha)) * t\n",
    "    y = 2 + v0 * math.sin(math.radians(alpha)) * t - 0.5 * g * t ** 2\n",
    "\n",
    "    return abs(x - 10) + abs(y - h)\n",
    "\n",
    "result = mi(h_diff, [10, 45], method = 'SLSQP', bounds = ((1, None), (1, 90)))\n",
    "\n",
    "v0, alpha = result.x\n",
    "\n",
    "print(\"Prędkość początkowa:\", v0, \"m/s\")\n",
    "print(\"Kąt rzutu:\", alpha, \"stopni\")\n",
    "\n"
   ]
  },
  {
   "cell_type": "markdown",
   "id": "370f3178",
   "metadata": {},
   "source": [
    "#### Zadanie 6:\n",
    "\n",
    "Korzystając z dowolnej metody wyznacz wszystkie rozwiązania rzeczywiste układu równań\n",
    "\n",
    "\n",
    "$$\\begin{align*}\n",
    "\\tan x-y&=& 1\\\\\n",
    "\\cos x-3\\sin y&=& 0\n",
    "\\end{align*}$$\n",
    "\n",
    "dla $0\\leq x\\leq 1.5\\,$.\n",
    "\n",
    "#### Rozwiązanie:"
   ]
  },
  {
   "cell_type": "code",
   "execution_count": 31,
   "id": "eecfbe8d",
   "metadata": {},
   "outputs": [
    {
     "name": "stdout",
     "output_type": "stream",
     "text": [
      "[0.8815926  0.21359471]\n",
      "[1.3294021  3.06182254]\n",
      "[1.4351761  6.32826887]\n",
      "[ 1.4973497  12.59083327]\n"
     ]
    }
   ],
   "source": [
    "from scipy import optimize\n",
    "import numpy as np\n",
    "\n",
    "def f(x):\n",
    "    return [np.tan(x[0])-x[1]-1,\n",
    "            np.cos(x[0])-3*np.sin(x[1])]\n",
    "\n",
    "sol=[]\n",
    "\n",
    "for a in np.arange(0, 1.5, 0.01):\n",
    "\tfor b in np.arange(0, 1.5, 0.01):\n",
    "\t\tx0 = np.array([a,b])\n",
    "\t\tx1 = optimize.root(f, x0)\n",
    "\t\tif x1.success:\n",
    "\t\t\tif(x1.x[0]>=0 and x1.x[0]<=1.5):\n",
    "\t\t\t\tx1.x[0] = round(x1.x[0], 7)\n",
    "\t\t\t\tif x1.x[0] not in sol:\n",
    "\t\t\t\t\tprint(x1.x)\n",
    "\t\t\t\t\tsol.append(x1.x[0])"
   ]
  },
  {
   "cell_type": "markdown",
   "id": "6780cd35",
   "metadata": {},
   "source": [
    "#### Zadanie 7:\n",
    "\n",
    "Znajdź wszystkie pierwiastki wielomianu\n",
    "\n",
    "$$w(x)=x^4+(5+i)x^3-(8-5i)x^2+(30-14i)x-84$$\n",
    "\n",
    "#### Rozwiązanie:"
   ]
  },
  {
   "cell_type": "code",
   "execution_count": 39,
   "id": "d6ce23cc",
   "metadata": {},
   "outputs": [
    {
     "name": "stdout",
     "output_type": "stream",
     "text": [
      "[-7.00000000e+00+0.00000000e+00j -7.53578532e-16-3.00000000e+00j\n",
      "  2.00000000e+00+7.53147208e-16j  2.99582890e-16+2.00000000e+00j]\n"
     ]
    }
   ],
   "source": [
    "import numpy as np\n",
    "\n",
    "pol=np.array([1, 5+1j, (-8+5j), 30-14j, -84])\n",
    "print(np.roots(pol))"
   ]
  }
 ],
 "metadata": {
  "kernelspec": {
   "display_name": "Python 3 (ipykernel)",
   "language": "python",
   "name": "python3"
  },
  "language_info": {
   "codemirror_mode": {
    "name": "ipython",
    "version": 3
   },
   "file_extension": ".py",
   "mimetype": "text/x-python",
   "name": "python",
   "nbconvert_exporter": "python",
   "pygments_lexer": "ipython3",
   "version": "3.10.12"
  }
 },
 "nbformat": 4,
 "nbformat_minor": 5
}
