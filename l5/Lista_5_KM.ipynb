{
 "cells": [
  {
   "cell_type": "markdown",
   "id": "a63487e2",
   "metadata": {},
   "source": [
    "### Metody numeryczne 1 - Lista 5"
   ]
  },
  {
   "cell_type": "markdown",
   "id": "89944d84",
   "metadata": {},
   "source": [
    "#### Zadanie 1:\n",
    "\n",
    "Gęstość powietrza zmienia się z wysokością $h$ w następujący sposób:\n",
    "\n",
    "\n",
    "\n",
    "|<span style=\"font-weight:normal\">$$h(\\textrm{km})$$</span>| <span style=\"font-weight:normal\">0 </span>|<span style=\"font-weight:normal\"> 3 </span>| <span style=\"font-weight:normal\">6</span> |\n",
    "|--|---|---|---|\n",
    "|$$\\rho(\\textrm{kg/m}^3)$$| 1.225 | 0.905 | 0.652|\n",
    "\n",
    "\n",
    "Wyraź $\\rho(h)$ jako funkcję kwadratową h\n",
    "\n",
    "#### Rozwiązanie:"
   ]
  },
  {
   "cell_type": "code",
   "execution_count": 4,
   "id": "25f8f197",
   "metadata": {},
   "outputs": [
    {
     "name": "stdout",
     "output_type": "stream",
     "text": [
      "Współczynniki funkcji kwadratowej:\n",
      "a = 0.0037222222222222023, b = -0.1178333333333332, c = 1.2249999999999999\n",
      "Gęstość powietrza dla h = 4 km: 0.8132222222222223 kg/m^3\n"
     ]
    }
   ],
   "source": [
    "import numpy as np\n",
    "\n",
    "# Dane\n",
    "wysokosci = np.array([0, 3, 6])  # wysokości\n",
    "gestosci = np.array([1.225, 0.905, 0.652])  # gęstości powietrza\n",
    "\n",
    "# Tworzymy macierz układu równań\n",
    "A = np.vstack([wysokosci**2, wysokosci, np.ones_like(wysokosci)]).T\n",
    "\n",
    "# Rozwiązujemy układ równań\n",
    "a, b, c = np.linalg.lstsq(A, gestosci, rcond=None)[0]\n",
    "\n",
    "# Wyświetlam wyniki\n",
    "print(f'Współczynniki funkcji kwadratowej:')\n",
    "print(f'a = {a}, b = {b}, c = {c}')\n",
    "\n",
    "# Definiuje funkcję kwadratową\n",
    "def obliczanieFunkcji(h):\n",
    "    return a * h**2 + b * h + c\n",
    "\n",
    "# Przykład użycia funkcji\n",
    "wysokosc_przykladowa = 4\n",
    "wynik = obliczanieFunkcji(wysokosc_przykladowa)\n",
    "print(f'Gęstość powietrza dla h = {wysokosc_przykladowa} km: {wynik} kg/m^3')\n",
    "\n",
    "#odpowiedz to p(h)= 0.00372x^2-0.1178x +1.225 \n"
   ]
  },
  {
   "cell_type": "markdown",
   "id": "736b7c02",
   "metadata": {},
   "source": [
    "#### Zadanie 2:\n",
    "\n",
    "Oblicz $y'(x)$ w $x=2.1$ oraz pierwiastki $y(x)$ korzystając z następujących danych:\n",
    "\n",
    "|<span style=\"font-weight:normal\"> x</span> | <span style=\"font-weight:normal\"> 1</span> | <span style=\"font-weight:normal\"> 1.25</span> | <span style=\"font-weight:normal\"> 1.5</span> | <span style=\"font-weight:normal\"> 1.75</span> | <span style=\"font-weight:normal\"> 2</span> |  <span style=\"font-weight:normal\"> 2.25</span> | <span style=\"font-weight:normal\"> 2.5</span> | <span style=\"font-weight:normal\"> 2.75</span> | <span style=\"font-weight:normal\"> 3</span> |\n",
    "|:--:|:--:|:--:|:--:|:--:|:--:|:--:|:--:|:--:|:--:|\n",
    "|$$y$$| -0.5403| -0.0104| 0.9423| 1.7445| 1.3073| -0.7718| -2.4986| -0.7903| 2.7334|\n",
    "\n",
    "\n",
    "#### Rozwiązanie:"
   ]
  },
  {
   "cell_type": "code",
   "execution_count": 1,
   "id": "86e75c63",
   "metadata": {},
   "outputs": [
    {
     "name": "stdout",
     "output_type": "stream",
     "text": [
      "Pochodna w punkcie x = 2.1: -8.149766083820342\n",
      "Pierwiastki wielomianu:\n",
      "x = (-0.8168116697681875+0j)\n",
      "x = (-0.620801675356967+0.5133633529412441j)\n",
      "x = (-0.620801675356967-0.5133633529412441j)\n",
      "x = (-0.12465664241767233+0.7434646053733857j)\n",
      "x = (-0.12465664241767233-0.7434646053733857j)\n",
      "x = (1.0338023023688354+0.4136986909583385j)\n",
      "x = (1.0338023023688354-0.4136986909583385j)\n",
      "x = (0.5292507950409052+0j)\n"
     ]
    }
   ],
   "source": [
    "import numpy as np\n",
    "\n",
    "def lagrange_interpolation(x, y, x_interp):\n",
    "    n = len(x)\n",
    "    result = 0.0\n",
    "    \n",
    "    for i in range(n):\n",
    "        term = y[i]\n",
    "        for j in range(n):\n",
    "            if j != i:\n",
    "                term *= (x_interp - x[j]) / (x[i] - x[j])\n",
    "        result += term\n",
    "    \n",
    "    return result\n",
    "\n",
    "def interpolate_derivative(x, y, x_interp):\n",
    "    h = 1e-5  # mała wartość przyrostu\n",
    "    y_interp_plus_h = lagrange_interpolation(x, y, x_interp + h)\n",
    "    y_interp_minus_h = lagrange_interpolation(x, y, x_interp - h)\n",
    "    \n",
    "    derivative = (y_interp_plus_h - y_interp_minus_h) / (2 * h)\n",
    "    \n",
    "    return derivative\n",
    "\n",
    "# Dane z tabeli\n",
    "x_values = np.array([1, 1.25, 1.5, 1.75, 2, 2.25, 2.5, 2.75, 3])\n",
    "y_values = np.array([-0.5403, -0.0104, 0.9423, 1.7445, 1.3073, -0.7718, -2.4986, -0.7903, 2.7334])\n",
    "\n",
    "# Punkt, w którym obliczymy pochodną\n",
    "x_interp_point = 2.1\n",
    "\n",
    "# Obliczenie pochodnej\n",
    "derivative_at_point = interpolate_derivative(x_values, y_values, x_interp_point)\n",
    "\n",
    "# Wyświetlenie wyników\n",
    "print(f\"Pochodna w punkcie x = {x_interp_point}: {derivative_at_point}\")\n",
    "\n",
    "# Znalezienie pierwiastków\n",
    "roots = np.roots(np.flip(y_values))  # Znajdujemy pierwiastki wielomianu interpolacyjnego\n",
    "print(\"Pierwiastki wielomianu:\")\n",
    "for root in roots:\n",
    "    print(f\"x = {root}\")\n"
   ]
  },
  {
   "cell_type": "markdown",
   "id": "5e9b8586",
   "metadata": {},
   "source": [
    "#### Zadanie 3:\n",
    "W poniższej tabeli przedstawiony jest współczynnik oporu $c_D$ sfery w cieczy jako funkcja liczby Reynoldsa $Re$. Korzystając z naturalnych funkcji sklejanych, znajdź $c_D$ dla $Re$ = 5, 50 i 5000\n",
    "\n",
    "|<span style=\"font-weight:normal\">$$Re$$</span>| <span style=\"font-weight:normal\">0.2 </span>|<span style=\"font-weight:normal\"> 2 </span>| <span style=\"font-weight:normal\">20</span> |<span style=\"font-weight:normal\">200</span> |<span style=\"font-weight:normal\">2000</span> |<span style=\"font-weight:normal\">20000</span> |\n",
    "|:--:|:---:|:---:|:---:|:---:|:---:|:---:|\n",
    "|$$c_D$$| 103 | 13.9 | 2.72| 0.8| 0.401| 0.433|\n",
    "\n",
    "*Wskazówka:* Użyj podwójnie logarytmicznej skali\n",
    "#### Rozwiązanie:"
   ]
  },
  {
   "cell_type": "code",
   "execution_count": 21,
   "id": "e95a9420",
   "metadata": {},
   "outputs": [
    {
     "name": "stdout",
     "output_type": "stream",
     "text": [
      "Interpolowane wartości c_D dla Re = [   5   50 5000]: [7.26266202 1.67136837 0.41344057]\n"
     ]
    }
   ],
   "source": [
    "import numpy as np\n",
    "from scipy.interpolate import UnivariateSpline\n",
    "\n",
    "# Dane\n",
    "re = np.array([0.2, 2, 20, 200, 2000, 20000])\n",
    "cd = np.array([103, 13.9, 2.72, 0.8, 0.401, 0.433])\n",
    "\n",
    "# Tworzymy spline dla danych w skali logarytmicznej\n",
    "log_re = np.log(re)\n",
    "log_cd = np.log(cd)\n",
    "spline = UnivariateSpline(log_re, log_cd, k=1, s=0)\n",
    "\n",
    "# Wartości Re dla których chcemy znaleźć c_D\n",
    "reWyniki = np.array([5, 50, 5000])\n",
    "\n",
    "# Interpolacja dla podanych wartości Re\n",
    "logarytmCdInterpolowane = spline(np.log(reWyniki))\n",
    "\n",
    "# Przywracamy wartości do skali pierwotnej\n",
    "cdInterpolowane = np.exp(logarytmCdInterpolowane)\n",
    "\n",
    "# Wyświetlamy wyniki\n",
    "print(f'Interpolowane wartości c_D dla Re = {reWyniki}: {cdInterpolowane}')\n"
   ]
  },
  {
   "cell_type": "markdown",
   "id": "bbca94c0",
   "metadata": {},
   "source": [
    "#### Zadanie 4:\n",
    "\n",
    "Rozwiąż zad. 3 za pomocą interpolacji wielomianowej.\n",
    "\n",
    "#### Rozwiązanie:"
   ]
  },
  {
   "cell_type": "code",
   "execution_count": 22,
   "id": "c55de682",
   "metadata": {},
   "outputs": [
    {
     "name": "stdout",
     "output_type": "stream",
     "text": [
      "Interpolowane wartości c_D dla Re = [   5   50 5000]: [8.85851544e+02 2.85959295e+19 9.76026998e+95]\n"
     ]
    }
   ],
   "source": [
    "import numpy as np\n",
    "from numpy.polynomial import Polynomial\n",
    "\n",
    "# Dane\n",
    "re = np.array([0.2, 2, 20, 200, 2000, 20000])\n",
    "cd = np.array([103, 13.9, 2.72, 0.8, 0.401, 0.433])\n",
    "\n",
    "# Stopień wielomianu do interpolacji\n",
    "degree = 2\n",
    "\n",
    "# Fitujemy wielomian do danych\n",
    "coefficients = np.polyfit(np.log(re), np.log(cd), degree)\n",
    "\n",
    "# Tworzymy obiekt wielomianu\n",
    "poly_interpolated = Polynomial(coefficients)\n",
    "\n",
    "# Wartości Re dla których chcemy znaleźć c_D\n",
    "reWyniki = np.array([5, 50, 5000])\n",
    "\n",
    "# Interpolacja dla podanych wartości Re\n",
    "logarytmCdInterpolowane = poly_interpolated(np.log(reWyniki))\n",
    "\n",
    "# Przywracamy wartości do skali pierwotnej\n",
    "cdInterpolowane = np.exp(logarytmCdInterpolowane)\n",
    "\n",
    "# Wyświetlamy wyniki\n",
    "print(f'Interpolowane wartości c_D dla Re = {reWyniki}: {cdInterpolowane}')\n"
   ]
  },
  {
   "cell_type": "markdown",
   "id": "ebbcb594",
   "metadata": {},
   "source": [
    "#### Zadanie 5:\n",
    "\n",
    "Dopasuj linię prostą i funkcję kwadratową do `poniższych danych:\n",
    "\n",
    "|<span style=\"font-weight:normal\">$$x$$</span>| <span style=\"font-weight:normal\">1.0 </span>|<span style=\"font-weight:normal\"> 2.5 </span>| <span style=\"font-weight:normal\">3.5</span> |<span style=\"font-weight:normal\">4.0</span> |<span style=\"font-weight:normal\"> 1.1</span> |<span style=\"font-weight:normal\">1.8</span> |<span style=\"font-weight:normal\">2.2</span> |<span style=\"font-weight:normal\">3.7</span> |\n",
    "|:--:|:---:|:---:|:---:|:---:|:---:|:---:|:---:|:---:|\n",
    "|$$y$$| 6.008 | 15.722 | 27.13 | 33.772 | 5.257 | 9.549 |11.098 |28.828|\n",
    "\n",
    "Która funkcja jest lepiej dopasowana do tych danych?\n",
    "\n",
    "#### Rozwiązanie:"
   ]
  },
  {
   "cell_type": "code",
   "execution_count": 25,
   "id": "aa724e26",
   "metadata": {},
   "outputs": [
    {
     "name": "stdout",
     "output_type": "stream",
     "text": [
      "Współczynniki funkcji liniowej:\n",
      "a = 9.438543537422447, b = -6.1898952551205575\n",
      "Współczynniki funkcji kwadratowej:\n",
      "a = 2.108118166892935, b = -1.0688958643367443, c = 4.405673441030348\n",
      "Suma kwadratów różnic dla funkcji liniowej: 30.201471900791564\n",
      "Suma kwadratów różnic dla funkcji kwadratowej: 3.3042593493176615\n"
     ]
    }
   ],
   "source": [
    "import numpy as np\n",
    "from scipy.optimize import curve_fit as cf\n",
    "\n",
    "# Dane\n",
    "x_data = np.array([1.0, 2.5, 3.5, 4.0, 1.1, 1.8, 2.2, 3.7])\n",
    "y_data = np.array([6.008, 15.722, 27.13, 33.772, 5.257, 9.549, 11.098, 28.828])\n",
    "\n",
    "# Funkcja liniowa\n",
    "def linear_func(x, a, b):\n",
    "    return a * x + b\n",
    "\n",
    "# Dopasowanie liniowe\n",
    "wynikiLiniowe, _ = cf(linear_func, x_data, y_data)\n",
    "\n",
    "# Funkcja kwadratowa\n",
    "def quadratic_func(x, a, b, c):\n",
    "    return a * x**2 + b * x + c\n",
    "\n",
    "# Dopasowanie kwadratowe\n",
    "wyniki, _ = cf(quadratic_func, x_data, y_data)\n",
    "\n",
    "# Wyświetlanie wyników\n",
    "print(f'Współczynniki funkcji liniowej:')\n",
    "print(f'a = {wynikiLiniowe[0]}, b = {wynikiLiniowe[1]}')\n",
    "\n",
    "print(f'Współczynniki funkcji kwadratowej:')\n",
    "print(f'a = {wyniki[0]}, b = {wyniki[1]}, c = {wyniki[2]}')\n",
    "\n",
    "# Porównanie jakości dopasowania\n",
    "yDopasowanie = linear_func(x_data, *wynikiLiniowe)\n",
    "yDopasowanieKwadratowe = quadratic_func(x_data, *wyniki)\n",
    "\n",
    "# Suma kwadratów różnic między wartościami rzeczywistymi a przewidywanymi\n",
    "sumaDiffow = np.sum((y_data - yDopasowanie)**2)\n",
    "sumaDiffowKwadratowych = np.sum((y_data - yDopasowanieKwadratowe)**2)\n",
    "\n",
    "print(f'Suma kwadratów różnic dla funkcji liniowej: {sumaDiffow}')\n",
    "print(f'Suma kwadratów różnic dla funkcji kwadratowej: {sumaDiffowKwadratowych}')\n"
   ]
  },
  {
   "cell_type": "markdown",
   "id": "370f3178",
   "metadata": {},
   "source": [
    "#### Zadanie 6:\n",
    "\n",
    "Wykorzystaj pomiary względnej gęstości powietrza $\\rho$ na wysokości $h$(km)\n",
    "\n",
    "\n",
    "\n",
    "|<span style=\"font-weight:normal\">$$h(\\textrm{km})$$</span>| <span style=\"font-weight:normal\">0 </span>|<span style=\"font-weight:normal\"> 1.525 </span>| <span style=\"font-weight:normal\">3.05</span> |<span style=\"font-weight:normal\">4.575</span> |<span style=\"font-weight:normal\">6.1</span> |<span style=\"font-weight:normal\">7.625</span> |<span style=\"font-weight:normal\">9.150</span> |\n",
    "|:--:|:---:|:---:|:---:|:---:|:---:|:---:|:---:|\n",
    "|$$\\rho(\\textrm{kg/m}^3)$$| 1 | 0.8617 | 0.7385 | 0.6292 | 0.5328 |0.4481 |0.3741|\n",
    "\n",
    "do obliczenia $\\rho$ na wysokości $h=10.5\\,$km. *Wskazówka*: Dopasuj do tych danych\n",
    "funkcję kwadratową metodą najmniejszych kwadratów.\n",
    "\n",
    "#### Rozwiązanie:"
   ]
  },
  {
   "cell_type": "code",
   "execution_count": 24,
   "id": "47229971",
   "metadata": {},
   "outputs": [
    {
     "name": "stdout",
     "output_type": "stream",
     "text": [
      "Współczynniki funkcji kwadratowej:\n",
      "a = 0.0027632101009355467, b = -0.09344730684922747, c = 0.9988952381654874\n",
      "Przybliżona gęstość na wysokości 10.5 km: 0.322342429876743 kg/m^3\n"
     ]
    }
   ],
   "source": [
    "import numpy as np\n",
    "from scipy.optimize import curve_fit as cf\n",
    "\n",
    "# Dane\n",
    "wysokosci = np.array([0, 1.525, 3.05, 4.575, 6.1, 7.625, 9.15])\n",
    "gestosci = np.array([1, 0.8617, 0.7385, 0.6292, 0.5328, 0.4481, 0.3741])\n",
    "\n",
    "# Funkcja kwadratowa\n",
    "def quadratic_func(x, a, b, c):\n",
    "    return a * x**2 + b * x + c\n",
    "\n",
    "# Dopasowanie kwadratowe\n",
    "wyniki, _ = cf(quadratic_func, wysokosci, gestosci)\n",
    "\n",
    "# Wartość gęstości na h=10.5 km\n",
    "wysokoscNa10Km = 10.5\n",
    "celNa105Km = quadratic_func(wysokoscNa10Km, *wyniki)\n",
    "\n",
    "# Wyświetlanie wyników\n",
    "print(f'Współczynniki funkcji kwadratowej:')\n",
    "print(f'a = {wyniki[0]}, b = {wyniki[1]}, c = {wyniki[2]}')\n",
    "\n",
    "print(f'Przybliżona gęstość na wysokości {wysokoscNa10Km} km: {celNa105Km} kg/m^3')\n"
   ]
  }
 ],
 "metadata": {
  "kernelspec": {
   "display_name": "Python 3 (ipykernel)",
   "language": "python",
   "name": "python3"
  },
  "language_info": {
   "codemirror_mode": {
    "name": "ipython",
    "version": 3
   },
   "file_extension": ".py",
   "mimetype": "text/x-python",
   "name": "python",
   "nbconvert_exporter": "python",
   "pygments_lexer": "ipython3",
   "version": "3.10.12"
  }
 },
 "nbformat": 4,
 "nbformat_minor": 5
}
