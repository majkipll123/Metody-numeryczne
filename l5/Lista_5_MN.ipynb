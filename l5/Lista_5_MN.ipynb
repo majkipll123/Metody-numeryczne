{
 "cells": [
  {
   "cell_type": "markdown",
   "id": "a63487e2",
   "metadata": {},
   "source": [
    "### Metody numeryczne 1 - Lista 5"
   ]
  },
  {
   "cell_type": "markdown",
   "id": "89944d84",
   "metadata": {},
   "source": [
    "#### Zadanie 1:\n",
    "\n",
    "Gęstość powietrza zmienia się z wysokością $h$ w następujący sposób:\n",
    "\n",
    "\n",
    "\n",
    "|<span style=\"font-weight:normal\">$$h(\\textrm{km})$$</span>| <span style=\"font-weight:normal\">0 </span>|<span style=\"font-weight:normal\"> 3 </span>| <span style=\"font-weight:normal\">6</span> |\n",
    "|--|---|---|---|\n",
    "|$$\\rho(\\textrm{kg/m}^3)$$| 1.225 | 0.905 | 0.652|\n",
    "\n",
    "\n",
    "Wyraź $\\rho(h)$ jako funkcję kwadratową h\n",
    "\n",
    "#### Rozwiązanie:"
   ]
  },
  {
   "cell_type": "code",
   "execution_count": 4,
   "id": "25f8f197",
   "metadata": {},
   "outputs": [
    {
     "name": "stdout",
     "output_type": "stream",
     "text": [
      "Współczynniki funkcji kwadratowej:\n",
      "a = 0.0037222222222222023, b = -0.1178333333333332, c = 1.2249999999999999\n",
      "Gęstość powietrza dla h = 4 km: 0.8132222222222223 kg/m^3\n"
     ]
    }
   ],
   "source": [
    "import numpy as np\n",
    "\n",
    "# Dane\n",
    "wysokosci = np.array([0, 3, 6])  # wysokości\n",
    "gestosci = np.array([1.225, 0.905, 0.652])  # gęstości powietrza\n",
    "\n",
    "# Tworzymy macierz układu równań\n",
    "A = np.vstack([wysokosci**2, wysokosci, np.ones_like(wysokosci)]).T\n",
    "\n",
    "# Rozwiązujemy układ równań\n",
    "a, b, c = np.linalg.lstsq(A, gestosci, rcond=None)[0]\n",
    "\n",
    "# Wyświetlam wyniki\n",
    "print(f'Współczynniki funkcji kwadratowej:')\n",
    "print(f'a = {a}, b = {b}, c = {c}')\n",
    "\n",
    "# Definiuje funkcję kwadratową\n",
    "def obliczanieFunkcji(h):\n",
    "    return a * h**2 + b * h + c\n",
    "\n",
    "# Przykład użycia funkcji\n",
    "wysokosc_przykladowa = 4\n",
    "wynik = obliczanieFunkcji(wysokosc_przykladowa)\n",
    "print(f'Gęstość powietrza dla h = {wysokosc_przykladowa} km: {wynik} kg/m^3')\n",
    "\n",
    "#odpowiedz to p(h)= 0.00372x^2-0.1178x +1.225 \n"
   ]
  },
  {
   "cell_type": "markdown",
   "id": "736b7c02",
   "metadata": {},
   "source": [
    "#### Zadanie 2:\n",
    "\n",
    "Oblicz $y'(x)$ w $x=2.1$ oraz pierwiastki $y(x)$ korzystając z następujących danych:\n",
    "\n",
    "|<span style=\"font-weight:normal\"> x</span> | <span style=\"font-weight:normal\"> 1</span> | <span style=\"font-weight:normal\"> 1.25</span> | <span style=\"font-weight:normal\"> 1.5</span> | <span style=\"font-weight:normal\"> 1.75</span> | <span style=\"font-weight:normal\"> 2</span> |  <span style=\"font-weight:normal\"> 2.25</span> | <span style=\"font-weight:normal\"> 2.5</span> | <span style=\"font-weight:normal\"> 2.75</span> | <span style=\"font-weight:normal\"> 3</span> |\n",
    "|:--:|:--:|:--:|:--:|:--:|:--:|:--:|:--:|:--:|:--:|\n",
    "|$$y$$| -0.5403| -0.0104| 0.9423| 1.7445| 1.3073| -0.7718| -2.4986| -0.7903| 2.7334|\n",
    "\n",
    "\n",
    "#### Rozwiązanie:"
   ]
  },
  {
   "cell_type": "code",
   "execution_count": 5,
   "id": "86e75c63",
   "metadata": {},
   "outputs": [
    {
     "name": "stdout",
     "output_type": "stream",
     "text": [
      "Wartość pierwszej pochodnej y'(2.1) =  -8.159422441025642\n",
      "Pierwiastki funkcji y(x) (Miejsca zerowe pochodnej y'(x)):\n",
      "x =  0.9496363113849483\n",
      "x =  1.8124546615392558\n",
      "x =  2.5091595423375797\n",
      "x =  3.3021256642485253\n"
     ]
    }
   ],
   "source": [
    "from scipy.interpolate import CubicSpline as scincu\n",
    " \n",
    "x = [1, 1.25, 1.5, 1.75, 2, 2.25, 2.5, 2.75, 3]\n",
    "y = [-0.5403, -0.0104, 0.9423, 1.7445, 1.3073, -0.7718, -2.4986, -0.7903, 2.7334]\n",
    "cubicSpline = scincu(x, y)\n",
    "yPrime = cubicSpline.derivative()\n",
    "xValue = 2.1\n",
    "yPrimeValue = yPrime(xValue)\n",
    " \n",
    "print(\"Wartość pierwszej pochodnej y'(2.1) = \", yPrimeValue)\n",
    " \n",
    "roots = yPrime.roots()\n",
    " \n",
    "print(\"Pierwiastki funkcji y(x) (Miejsca zerowe pochodnej y'(x)):\")\n",
    " \n",
    "for root in roots:\n",
    "    print(\"x = \", root)"
   ]
  },
  {
   "cell_type": "markdown",
   "id": "5e9b8586",
   "metadata": {},
   "source": [
    "#### Zadanie 3:\n",
    "W poniższej tabeli przedstawiony jest współczynnik oporu $c_D$ sfery w cieczy jako funkcja liczby Reynoldsa $Re$. Korzystając z naturalnych funkcji sklejanych, znajdź $c_D$ dla $Re$ = 5, 50 i 5000\n",
    "\n",
    "|<span style=\"font-weight:normal\">$$Re$$</span>| <span style=\"font-weight:normal\">0.2 </span>|<span style=\"font-weight:normal\"> 2 </span>| <span style=\"font-weight:normal\">20</span> |<span style=\"font-weight:normal\">200</span> |<span style=\"font-weight:normal\">2000</span> |<span style=\"font-weight:normal\">20000</span> |\n",
    "|:--:|:---:|:---:|:---:|:---:|:---:|:---:|\n",
    "|$$c_D$$| 103 | 13.9 | 2.72| 0.8| 0.401| 0.433|\n",
    "\n",
    "*Wskazówka:* Użyj podwójnie logarytmicznej skali\n",
    "#### Rozwiązanie:"
   ]
  },
  {
   "cell_type": "code",
   "execution_count": 1,
   "id": "e95a9420",
   "metadata": {},
   "outputs": [
    {
     "name": "stdout",
     "output_type": "stream",
     "text": [
      "Re = 5, cD = 6.90159241175195\n",
      "Re = 50, cD = 1.590835404677944\n",
      "Re = 5000, cD = 0.3868217720404589\n"
     ]
    }
   ],
   "source": [
    "import numpy as np\n",
    "from scipy.interpolate import CubicSpline\n",
    "\n",
    "# Dane\n",
    "Re_wartosci = np.array([0.2, 2, 20, 200, 2000, 20000])\n",
    "cD_wartosci = np.array([103, 13.9, 2.72, 0.8, 0.401, 0.433])\n",
    "\n",
    "# Tworzenie funkcji sklejanej\n",
    "cs = CubicSpline(np.log(Re_wartosci), np.log(cD_wartosci), bc_type='natural')\n",
    "\n",
    "# Wartości Re, dla których chcemy obliczyć cD\n",
    "Re_wartosci_do_obliczenia = np.array([5, 50, 5000])\n",
    "\n",
    "# Obliczanie cD dla danych wartości Re\n",
    "cD_wartosci_interpolowane = np.exp(cs(np.log(Re_wartosci_do_obliczenia)))\n",
    "\n",
    "# Wyświetlanie wyników\n",
    "for Re, cD in zip(Re_wartosci_do_obliczenia, cD_wartosci_interpolowane):\n",
    "    print(f\"Re = {Re}, cD = {cD}\")\n"
   ]
  },
  {
   "cell_type": "markdown",
   "id": "bbca94c0",
   "metadata": {},
   "source": [
    "#### Zadanie 4:\n",
    "\n",
    "Rozwiąż zad. 3 za pomocą interpolacji wielomianowej.\n",
    "\n",
    "#### Rozwiązanie:"
   ]
  },
  {
   "cell_type": "code",
   "execution_count": 6,
   "id": "c55de682",
   "metadata": {},
   "outputs": [
    {
     "name": "stdout",
     "output_type": "stream",
     "text": [
      "Re = 5, cD = 6.944960610846619\n",
      "Re = 50, cD = 1.5841142380924338\n",
      "Re = 5000, cD = 0.370716372085199\n"
     ]
    }
   ],
   "source": [
    "import numpy as np\n",
    "\n",
    "# Dane\n",
    "Re_wartosci = np.array([0.2, 2, 20, 200, 2000, 20000])\n",
    "cD_wartosci = np.array([103, 13.9, 2.72, 0.8, 0.401, 0.433])\n",
    "\n",
    "# Wartości Re, dla których chcemy obliczyć cD\n",
    "Re_wartosci_do_obliczenia = np.array([5, 50, 5000])\n",
    "\n",
    "# Interpolacja wielomianowa\n",
    "coefficients = np.polyfit(np.log(Re_wartosci), np.log(cD_wartosci), deg=len(Re_wartosci) - 1)\n",
    "polynomial = np.poly1d(coefficients)\n",
    "\n",
    "# Obliczanie cD dla danych wartości Re\n",
    "cD_wartosci_interpolowane = np.exp(polynomial(np.log(Re_wartosci_do_obliczenia)))\n",
    "\n",
    "# Wyświetlanie wyników\n",
    "for Re, cD in zip(Re_wartosci_do_obliczenia, cD_wartosci_interpolowane):\n",
    "    print(f\"Re = {Re}, cD = {cD}\")\n"
   ]
  },
  {
   "cell_type": "markdown",
   "id": "ebbcb594",
   "metadata": {},
   "source": [
    "#### Zadanie 5:\n",
    "\n",
    "Dopasuj linię prostą i funkcję kwadratową do `poniższych danych:\n",
    "\n",
    "|<span style=\"font-weight:normal\">$$x$$</span>| <span style=\"font-weight:normal\">1.0 </span>|<span style=\"font-weight:normal\"> 2.5 </span>| <span style=\"font-weight:normal\">3.5</span> |<span style=\"font-weight:normal\">4.0</span> |<span style=\"font-weight:normal\"> 1.1</span> |<span style=\"font-weight:normal\">1.8</span> |<span style=\"font-weight:normal\">2.2</span> |<span style=\"font-weight:normal\">3.7</span> |\n",
    "|:--:|:---:|:---:|:---:|:---:|:---:|:---:|:---:|:---:|\n",
    "|$$y$$| 6.008 | 15.722 | 27.13 | 33.772 | 5.257 | 9.549 |11.098 |28.828|\n",
    "\n",
    "Która funkcja jest lepiej dopasowana do tych danych?\n",
    "\n",
    "#### Rozwiązanie:"
   ]
  },
  {
   "cell_type": "code",
   "execution_count": 5,
   "id": "aa724e26",
   "metadata": {},
   "outputs": [
    {
     "data": {
      "image/png": "[encoded data removed]",
      "text/plain": [
       "<Figure size 640x480 with 1 Axes>"
      ]
     },
     "metadata": {},
     "output_type": "display_data"
    }
   ],
   "source": [
    "import numpy as np\n",
    "from scipy.optimize import curve_fit as cf\n",
    "import matplotlib.pyplot as plt\n",
    "\n",
    "# Dane\n",
    "x_values = np.array([1.0, 2.5, 3.5, 4.0, 1.1, 1.8, 2.2, 3.7])\n",
    "y_values = np.array([6.008, 15.722, 27.13, 33.772, 5.257, 9.549, 11.098, 28.828])\n",
    "\n",
    "\n",
    "# Dopasowanie liniowe potrzebne do plota\n",
    "dopasowanieLiniowe = np.polyfit(x_values, y_values, 1)\n",
    "liniaProsta = np.poly1d(dopasowanieLiniowe)\n",
    "\n",
    "# Dopasowanie kwadratowe\n",
    "dopasowanieKwadratowe = np.polyfit(x_values, y_values, 2)\n",
    "liniaKwadratowa = np.poly1d(dopasowanieKwadratowe)\n",
    "\n",
    "# Punkty do rysowania wykresu\n",
    "x_plot = np.linspace(min(x_values), max(x_values), 100)\n",
    "\n",
    "# Rysowanie wykresu\n",
    "plt.scatter(x_values, y_values, label='Dane')\n",
    "plt.plot(x_plot, liniaProsta(x_plot), label='Regresja liniowa')\n",
    "plt.plot(x_plot, liniaKwadratowa(x_plot), label='Regresja kwadratowa')\n",
    "\n",
    "# Dodatkowe informacje na wykresie\n",
    "plt.title('Dopasowanie liniowe i kwadratowe')\n",
    "plt.xlabel('x')\n",
    "plt.ylabel('y')\n",
    "plt.legend()\n",
    "\n",
    "# Wyświetlanie wykresu\n",
    "plt.show()\n"
   ]
  },
  {
   "cell_type": "markdown",
   "id": "370f3178",
   "metadata": {},
   "source": [
    "#### Zadanie 6:\n",
    "\n",
    "Wykorzystaj pomiary względnej gęstości powietrza $\\rho$ na wysokości $h$(km)\n",
    "\n",
    "\n",
    "\n",
    "|<span style=\"font-weight:normal\">$$h(\\textrm{km})$$</span>| <span style=\"font-weight:normal\">0 </span>|<span style=\"font-weight:normal\"> 1.525 </span>| <span style=\"font-weight:normal\">3.05</span> |<span style=\"font-weight:normal\">4.575</span> |<span style=\"font-weight:normal\">6.1</span> |<span style=\"font-weight:normal\">7.625</span> |<span style=\"font-weight:normal\">9.150</span> |\n",
    "|:--:|:---:|:---:|:---:|:---:|:---:|:---:|:---:|\n",
    "|$$\\rho(\\textrm{kg/m}^3)$$| 1 | 0.8617 | 0.7385 | 0.6292 | 0.5328 |0.4481 |0.3741|\n",
    "\n",
    "do obliczenia $\\rho$ na wysokości $h=10.5\\,$km. *Wskazówka*: Dopasuj do tych danych\n",
    "funkcję kwadratową metodą najmniejszych kwadratów.\n",
    "\n",
    "#### Rozwiązanie:"
   ]
  },
  {
   "cell_type": "code",
   "execution_count": 7,
   "id": "47229971",
   "metadata": {},
   "outputs": [
    {
     "name": "stdout",
     "output_type": "stream",
     "text": [
      "Współczynniki funkcji kwadratowej:\n",
      "a = 0.0027632101009355467, b = -0.09344730684922747, c = 0.9988952381654874\n",
      "Przybliżona gęstość na wysokości 10.5 km: 0.322342429876743 kg/m^3\n"
     ]
    }
   ],
   "source": [
    "import numpy as np\n",
    "from scipy.optimize import curve_fit as cf\n",
    "\n",
    "# Dane\n",
    "wysokosci = np.array([0, 1.525, 3.05, 4.575, 6.1, 7.625, 9.15])\n",
    "gestosci = np.array([1, 0.8617, 0.7385, 0.6292, 0.5328, 0.4481, 0.3741])\n",
    "\n",
    "# Funkcja kwadratowa\n",
    "def quadratic_func(x, a, b, c):\n",
    "    return a * x**2 + b * x + c\n",
    "\n",
    "# Dopasowanie kwadratowe\n",
    "wyniki, _ = cf(quadratic_func, wysokosci, gestosci)\n",
    "\n",
    "# Wartość gęstości na h=10.5 km\n",
    "wysokoscNa10Km = 10.5\n",
    "celNa105Km = quadratic_func(wysokoscNa10Km, *wyniki)\n",
    "\n",
    "# Wyświetlanie wyników\n",
    "print(f'Współczynniki funkcji kwadratowej:')\n",
    "print(f'a = {wyniki[0]}, b = {wyniki[1]}, c = {wyniki[2]}')\n",
    "\n",
    "print(f'Przybliżona gęstość na wysokości {wysokoscNa10Km} km: {celNa105Km} kg/m^3')\n"
   ]
  }
 ],
 "metadata": {
  "kernelspec": {
   "display_name": "Python 3 (ipykernel)",
   "language": "python",
   "name": "python3"
  },
  "language_info": {
   "codemirror_mode": {
    "name": "ipython",
    "version": 3
   },
   "file_extension": ".py",
   "mimetype": "text/x-python",
   "name": "python",
   "nbconvert_exporter": "python",
   "pygments_lexer": "ipython3",
   "version": "3.10.12"
  }
 },
 "nbformat": 4,
 "nbformat_minor": 5
}
