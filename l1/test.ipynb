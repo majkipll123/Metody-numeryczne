{
 "cells": [
  {
   "cell_type": "code",
   "execution_count": 45,
   "metadata": {},
   "outputs": [
    {
     "name": "stdout",
     "output_type": "stream",
     "text": [
      "                    \n",
      "         **         \n",
      "        ****        \n",
      "       ******       \n",
      "      ********      \n",
      "     **********     \n",
      "    ************    \n",
      "   **************   \n",
      "  ****************  \n",
      " ****************** \n"
     ]
    }
   ],
   "source": [
    "# zrob hoinke \n",
    "for b in range (10,0,-1):\n",
    "    n=10-b\n",
    "    print(\" \"*b+\"*\"*n+\"*\"*n+\" \"*b)\n",
    "    print(U)\n"
   ]
  },
  {
   "cell_type": "code",
   "execution_count": null,
   "metadata": {},
   "outputs": [],
   "source": []
  }
 ],
 "metadata": {
  "kernelspec": {
   "display_name": "Python 3",
   "language": "python",
   "name": "python3"
  },
  "language_info": {
   "codemirror_mode": {
    "name": "ipython",
    "version": 3
   },
   "file_extension": ".py",
   "mimetype": "text/x-python",
   "name": "python",
   "nbconvert_exporter": "python",
   "pygments_lexer": "ipython3",
   "version": "3.10.6"
  },
  "orig_nbformat": 4
 },
 "nbformat": 4,
 "nbformat_minor": 2
}
