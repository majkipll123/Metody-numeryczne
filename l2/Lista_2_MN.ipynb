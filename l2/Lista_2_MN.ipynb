{
 "cells": [
  {
   "cell_type": "markdown",
   "id": "a63487e2",
   "metadata": {},
   "source": [
    "### Metody numeryczne 1 - Lista 2"
   ]
  },
  {
   "cell_type": "markdown",
   "id": "89944d84",
   "metadata": {},
   "source": [
    "#### Zadanie 1:\n",
    "\n",
    "Znajdź, bez używania komputera, reprezentację binarną liczby $1/10$ w 32-bitowym formacie IEEE\n",
    "\n",
    "#### Rozwiązanie - na osobnej kartce"
   ]
  },
  {
   "cell_type": "markdown",
   "id": "5e9b8586",
   "metadata": {},
   "source": [
    "#### Zadanie 2:\n",
    "Znajdź najbliższą liczbę maszynową dla 2/7 i błąd względny takiego przybliżenia.\n",
    "\n",
    "#### Rozwiązanie - na osobnej kartce"
   ]
  },
  {
   "cell_type": "markdown",
   "id": "84cd3dd6",
   "metadata": {},
   "source": [
    "#### Zadanie 3:\n",
    "\n",
    "Napisz program do obliczania dwóch matematycznie równoważnych wyrażeń\n",
    "\n",
    "$$\\sqrt{x^2+1}-1\\$$ \n",
    "\n",
    "i\n",
    "\n",
    "$$\\frac{x^2}{\\sqrt{x^2+1}+1}\\,.$$\n",
    "\n",
    "Które z nich daje wiarygodne wyniki dla $x=2^{-n}$ i $n=2,\\ 4,\\ 6,...,\\ 24$?\n",
    "\n",
    "#### Rozwiązanie:"
   ]
  },
  {
   "cell_type": "code",
   "execution_count": null,
   "id": "db0f5331",
   "metadata": {},
   "outputs": [],
   "source": []
  },
  {
   "cell_type": "markdown",
   "id": "47638ee8",
   "metadata": {},
   "source": [
    "#### Zadanie 4:\n",
    "\n",
    "Znajdź sposób obliczania wyrażenia\n",
    "\n",
    "$$\\sqrt{x^2+4}-2$$\n",
    "\n",
    "bez straty dokładności.\n",
    "\n",
    "#### Rozwiązanie - na osobnej kartce"
   ]
  },
  {
   "cell_type": "markdown",
   "id": "33ea4d3e",
   "metadata": {},
   "source": [
    "#### Zadanie 5:\n",
    "\n",
    "Oblicz całki typu\n",
    "\n",
    "$$I_n=\\int\\limits_0^1 x^n e^x\\,dx$$\n",
    "\n",
    "dla $n=2,\\ 3,\\ ...,\\ 20$, korzystając z rekurencyjnego związku\n",
    "\n",
    "$$I_{n+1}=e-(n+1)I_n$$\n",
    "\n",
    "Które wyniki nie są poprawne i dlaczego?\n",
    "\n",
    "#### Rozwiązanie:"
   ]
  },
  {
   "cell_type": "code",
   "execution_count": null,
   "id": "4f3efee4",
   "metadata": {},
   "outputs": [],
   "source": []
  }
 ],
 "metadata": {
  "kernelspec": {
   "display_name": "Python 3 (ipykernel)",
   "language": "python",
   "name": "python3"
  },
  "language_info": {
   "codemirror_mode": {
    "name": "ipython",
    "version": 3
   },
   "file_extension": ".py",
   "mimetype": "text/x-python",
   "name": "python",
   "nbconvert_exporter": "python",
   "pygments_lexer": "ipython3",
   "version": "3.10.12"
  }
 },
 "nbformat": 4,
 "nbformat_minor": 5
}
