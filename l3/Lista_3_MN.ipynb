{
 "cells": [
  {
   "cell_type": "markdown",
   "id": "a63487e2",
   "metadata": {},
   "source": [
    "### Metody numeryczne 1 - Lista 3"
   ]
  },
  {
   "cell_type": "markdown",
   "id": "89944d84",
   "metadata": {},
   "source": [
    "#### Zadanie 1:\n",
    "\n",
    "Rozwiąż, bez używania komputera, układ równań $Ax=b$ metodą eliminacji Gaussa dla\n",
    "\n",
    "$$A=\\begin{pmatrix}-1 & 1 & -4\\\\2 & 2 & 0\\\\3 & 3 & 2\\end{pmatrix}\\quad\\text{i}\\quad b=\\begin{pmatrix}0 \\\\1\\\\0.5\\end{pmatrix}\\,. $$\n",
    "\n",
    "\n",
    "#### Rozwiązanie - na osobnej kartce"
   ]
  },
  {
   "cell_type": "markdown",
   "id": "5e9b8586",
   "metadata": {},
   "source": [
    "#### Zadanie 2:\n",
    "Korzystając z rozkładu LU macierzy A rozwiąż układ równań $LUx=b$ (bez używania komputera) dla\n",
    "\n",
    "$$L=\\begin{pmatrix}1 & 0 & 0\\\\3/2 & 1 & 0\\\\1/2 & 11/13 & 1\\end{pmatrix}\\,,\\quad U=\\begin{pmatrix}2 & -3 & -1\\\\0 & 13/2 & -7/2\\\\0 & 0 & 32/13\\end{pmatrix}\\quad\\text{i}\\quad b=\\begin{pmatrix}1 \\\\-1\\\\2\\end{pmatrix}\\,. $$\n",
    "\n",
    "#### Rozwiązanie - na osobnej kartce"
   ]
  },
  {
   "cell_type": "markdown",
   "id": "84cd3dd6",
   "metadata": {},
   "source": [
    "#### Zadanie 3:\n",
    "\n",
    "Rozwiąż układ równań $Ax=b$ dla\n",
    "\n",
    "$$A=\\begin{pmatrix}0 & 0 & 2 & 1 & 2\\\\ 0& 1 &0 &2 &-1\\\\ 1 & 2 & 0 &-2 &0\\\\ 0 & 0 &0 &-1 &1 \\\\ 0 &1  &-1 &1 &-1 \\end{pmatrix}\\quad\\text{i}\\quad b=\\begin{pmatrix}1 \\\\1\\\\-4\\\\-2\\\\-1\\end{pmatrix}\\,. $$\n",
    "\n",
    "wykorzystując *linalg.solve* z modułu *scipy*\n",
    "\n",
    "#### Rozwiązanie:"
   ]
  },
  {
   "cell_type": "code",
   "execution_count": null,
   "id": "db0f5331",
   "metadata": {},
   "outputs": [],
   "source": []
  },
  {
   "cell_type": "markdown",
   "id": "47638ee8",
   "metadata": {},
   "source": [
    "#### Zadanie 4:\n",
    "\n",
    "Napisz program do eliminacji Gaussa i użyj go do ponownego rozwiązania zadań 1 ‐ 4 z tej listy\n",
    "\n",
    "#### Rozwiązanie:"
   ]
  },
  {
   "cell_type": "code",
   "execution_count": null,
   "id": "f352a19a",
   "metadata": {},
   "outputs": [],
   "source": []
  },
  {
   "cell_type": "markdown",
   "id": "33ea4d3e",
   "metadata": {},
   "source": [
    "#### Zadanie 5:\n",
    "\n",
    "Oblicz normę i wskaźnik uwarunkowania macierzy Hilberta dla n=5, 10 i 20.\n",
    "\n",
    "#### Rozwiązanie:"
   ]
  },
  {
   "cell_type": "code",
   "execution_count": null,
   "id": "4f3efee4",
   "metadata": {},
   "outputs": [],
   "source": []
  }
 ],
 "metadata": {
  "kernelspec": {
   "display_name": "Python 3 (ipykernel)",
   "language": "python",
   "name": "python3"
  },
  "language_info": {
   "codemirror_mode": {
    "name": "ipython",
    "version": 3
   },
   "file_extension": ".py",
   "mimetype": "text/x-python",
   "name": "python",
   "nbconvert_exporter": "python",
   "pygments_lexer": "ipython3",
   "version": "3.10.12"
  }
 },
 "nbformat": 4,
 "nbformat_minor": 5
}
