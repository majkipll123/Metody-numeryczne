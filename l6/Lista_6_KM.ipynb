{
 "cells": [
  {
   "cell_type": "markdown",
   "id": "a63487e2",
   "metadata": {},
   "source": [
    "### Metody numeryczne 1 - Lista 6"
   ]
  },
  {
   "cell_type": "markdown",
   "id": "89944d84",
   "metadata": {},
   "source": [
    "#### Zadanie 1:\n",
    "\n",
    "Korzystając z metody różnicy centralnej rzędu $h^4$ oblicz pierwszą, drugą i trzecią pochodną funkcji\n",
    "\n",
    "$$f(x)=\\ln\\left(\\tanh\\left(\\,\\frac{x}{x^2+1}\\right)\\,\\right) $$\n",
    "\n",
    "w punkcie $x=0.2$. Dla jakich wartości $h$ obliczone pochodne mają największą dokładność?\n",
    "\n",
    "#### Rozwiązanie:"
   ]
  },
  {
   "cell_type": "code",
   "execution_count": 2,
   "id": "25f8f197",
   "metadata": {},
   "outputs": [
    {
     "name": "stdout",
     "output_type": "stream",
     "text": [
      "h = 0.00000001:\t1. pochodna = -4.50352677\t2. pochodna = -28.31068713\t3. pochodna = -333066907.38754690\n",
      "h = 0.00000010:\t1. pochodna = -4.50352676\t2. pochodna = -27.17455890\t3. pochodna = -333066.90738755\n",
      "h = 0.00000100:\t1. pochodna = -4.50352676\t2. pochodna = -27.14078962\t3. pochodna = 777.15611724\n",
      "h = 0.00001000:\t1. pochodna = -4.50352676\t2. pochodna = -27.14119004\t3. pochodna = 253.57493882\n",
      "h = 0.00010000:\t1. pochodna = -4.50352676\t2. pochodna = -27.14118800\t3. pochodna = 254.61013853\n",
      "h = 0.00100000:\t1. pochodna = -4.50352676\t2. pochodna = -27.14118797\t3. pochodna = 254.60996353\n",
      "h = 0.01000000:\t1. pochodna = -4.50350158\t2. pochodna = -27.14097770\t3. pochodna = 254.57628488\n",
      "h = 0.10000000:\t1. pochodna = inf\t2. pochodna = inf\t3. pochodna = nan\n",
      "h = 1.00000000:\t1. pochodna = nan\t2. pochodna = nan\t3. pochodna = nan\n"
     ]
    },
    {
     "name": "stderr",
     "output_type": "stream",
     "text": [
      "/tmp/ipykernel_7152/1186392092.py:5: RuntimeWarning: divide by zero encountered in log\n",
      "  return np.log(np.tanh(x / (x**2 + 1)))\n",
      "/tmp/ipykernel_7152/1186392092.py:5: RuntimeWarning: invalid value encountered in log\n",
      "  return np.log(np.tanh(x / (x**2 + 1)))\n"
     ]
    }
   ],
   "source": [
    "import numpy as np\n",
    "\n",
    "def funkcja(x):\n",
    "    # Definicja funkcji f(x)\n",
    "    return np.log(np.tanh(x / (x**2 + 1)))\n",
    "\n",
    "def pochodna(f, x, h):\n",
    "    # Obliczenia pochodnych za pomocą róznic centralnych 4tego rzędu\n",
    "    df1 = (f(x + 2 * h) - 8 * f(x + h) + 8 * f(x - h) - f(x - 2 * h)) / (12 * h)\n",
    "    df2 = (-f(x + 2 * h) + 16 * f(x + h) - 30 * f(x) + 16 * f(x - h) - f(x - 2 * h)) / (12 * h**2)\n",
    "    df3 = (-f(x + 3 * h) + 8 * f(x + 2 * h) - 13 * f(x + h) + 13 * f(x - h) - 8 * f(x - 2 * h) + f(x - 3 * h)) / (8 * h**3)\n",
    "    return df1, df2, df3\n",
    "\n",
    "# Punkt, w którym obliczamy pochodne\n",
    "x_punkt = 0.2\n",
    "\n",
    "# Zakres wartości h\n",
    "h_wartości = np.logspace(-8, 0, 9)\n",
    "\n",
    "# Obliczenia dla różnych wartości h\n",
    "for h in h_wartości:\n",
    "    # Obliczamy pochodne dla danej wartości h\n",
    "    df1, df2, df3 = pochodna(funkcja, x_punkt, h)\n",
    "    \n",
    "    # Wyświetlamy wyniki\n",
    "    print(f\"h = {h:.8f}:\\t1. pochodna = {df1:.8f}\\t2. pochodna = {df2:.8f}\\t3. pochodna = {df3:.8f}\")\n"
   ]
  },
  {
   "cell_type": "markdown",
   "id": "736b7c02",
   "metadata": {},
   "source": [
    "#### Zadanie 2:\n",
    "\n",
    "Na podstawie danych z tabeli oblicz $f’(0.2)$ najdokładniej, jak to tylko możliwe:\n",
    "\n",
    "|$$x$$|<span style=\"font-weight:normal\"> 0.0</span>|<span style=\"font-weight:normal\"> 0.1</span>|<span style=\"font-weight:normal\"> 0.2</span>|<span style=\"font-weight:normal\"> 0.3</span>|<span style=\"font-weight:normal\"> 0.4</span>|\n",
    "|:-:|:-:|:-:|:-:|:-:|:-:|\n",
    "|$$f(x)$$ |0.0|0.078348 | 0.13891 |0.192916 |0.244981|\n",
    "\n",
    "#### Rozwiązanie:"
   ]
  },
  {
   "cell_type": "code",
   "execution_count": 3,
   "id": "86e75c63",
   "metadata": {},
   "outputs": [
    {
     "name": "stdout",
     "output_type": "stream",
     "text": [
      "f'(0.2) = -2.75625000\n"
     ]
    }
   ],
   "source": [
    "import numpy as np\n",
    "\n",
    "def lagrange(x, y, x_interp):\n",
    "    n = len(x)\n",
    "    result = 0.0\n",
    "    \n",
    "    for i in range(n):\n",
    "        term = y[i]\n",
    "        for j in range(n):\n",
    "            if j != i:\n",
    "                term *= 1 / (x[i] - x[j])\n",
    "        result += term\n",
    "    \n",
    "    return result\n",
    "\n",
    "# Dane z tabeli\n",
    "x_values = np.array([0.0, 0.1, 0.2, 0.3, 0.4])\n",
    "y_values = np.array([0.0, 0.078348, 0.13891, 0.192916, 0.244981])\n",
    "\n",
    "# Punkt, w którym obliczamy pochodną\n",
    "x_interp_point = 0.2\n",
    "\n",
    "# Obliczenie pochodnej za pomocą interpolacji Lagrange'a\n",
    "derivative_at_point = lagrange(x_values, y_values, x_interp_point)\n",
    "\n",
    "# Wyświetlenie wyniku\n",
    "print(f\"f'({x_interp_point}) = {derivative_at_point:.8f}\")\n"
   ]
  },
  {
   "cell_type": "markdown",
   "id": "5e9b8586",
   "metadata": {},
   "source": [
    "#### Zadanie 3:\n",
    "\n",
    "Korzystając z interpolacji wielomianowej, oblicz $f’(0)$ i $f’’(0)$, jeśli\n",
    "\n",
    "|$$x$$|<span style=\"font-weight:normal\"> -2.2</span>|<span style=\"font-weight:normal\"> -0.3</span>|<span style=\"font-weight:normal\"> 0.8</span>|<span style=\"font-weight:normal\"> 1.9</span>|\n",
    "|:-:|:-:|:-:|:-:|:-:|\n",
    "|$$f(x)$$ |-15.18 | 10.962|1.92 |-2.04|\n",
    "\n",
    "#### Rozwiązanie:"
   ]
  },
  {
   "cell_type": "code",
   "execution_count": null,
   "id": "e95a9420",
   "metadata": {},
   "outputs": [],
   "source": []
  },
  {
   "cell_type": "markdown",
   "id": "bbca94c0",
   "metadata": {},
   "source": [
    "#### Zadanie 4:\n",
    "\n",
    "Oblicz całkę\n",
    "\n",
    "$$\\int\\limits^{1}\\limits_{-1}\\cos\\left(2\\cos^{-1}\\,x\\right)dx$$\n",
    "\n",
    "korzystając ze wzoru Simpsona dla 3, 5 i 7 węzłów. Wyjaśnij wyniki.\n",
    "\n",
    "\n",
    "#### Rozwiązanie:"
   ]
  },
  {
   "cell_type": "code",
   "execution_count": null,
   "id": "c55de682",
   "metadata": {},
   "outputs": [],
   "source": []
  },
  {
   "cell_type": "markdown",
   "id": "ebbcb594",
   "metadata": {},
   "source": [
    "#### Zadanie 5:\n",
    "\n",
    "Okres $T$ wahadła matematycznego o długości $L$ zadany jest wzorem\n",
    "\n",
    "$$T=4\\sqrt{\\frac{L}{g}}h(\\theta_0)\\,,$$\n",
    "\n",
    "gdzie $g$ to przyspieszenie ziemskie, a $\\theta_0$ to amplituda oraz\n",
    "\n",
    "$$h(\\theta_0)=\\int\\limits_0^{\\pi/2}\\frac{d\\theta}{1-\\sin^2\\left(\\frac{\\theta_0}{2}\\right)\\sin^2\\theta}\\,.$$\n",
    "\n",
    "Oblicz $h(15^\\circ)$, $h(30^\\circ)$ i $h(45^\\circ)$. Porównaj te wartości z $h(0) = \\pi/2$ stosowanym\n",
    "w przybliżeniu harmonicznym.\n",
    "\n",
    "#### Rozwiązanie:"
   ]
  },
  {
   "cell_type": "code",
   "execution_count": null,
   "id": "aa724e26",
   "metadata": {},
   "outputs": [],
   "source": []
  },
  {
   "cell_type": "markdown",
   "id": "370f3178",
   "metadata": {},
   "source": [
    "#### Zadanie 6:\n",
    "\n",
    "Oblicz całkę\n",
    "\n",
    "\n",
    "$$\\int\\limits^{\\pi}_1\\frac{\\ln\\,x}{x^2-2x+2}dx$$\n",
    "\n",
    "metodą Gaussa-Legendre’a dla 2 i 4 węzłów.\n",
    "\n",
    "#### Rozwiązanie:"
   ]
  },
  {
   "cell_type": "code",
   "execution_count": null,
   "id": "eecfbe8d",
   "metadata": {},
   "outputs": [],
   "source": []
  },
  {
   "cell_type": "markdown",
   "id": "6780cd35",
   "metadata": {},
   "source": [
    "#### Zadanie 7:\n",
    "\n",
    "Oblicz całkę\n",
    "\n",
    "\n",
    "$$\\int\\limits^1_{-1}\\frac{\\cos\\,x-e^x}{\\sin\\,x}dx$$\n",
    "\n",
    "z co najmniej 10 dokładnymi cyframi dziesiętnymi\n",
    "\n",
    "#### Rozwiązanie:"
   ]
  },
  {
   "cell_type": "code",
   "execution_count": null,
   "id": "d6ce23cc",
   "metadata": {},
   "outputs": [],
   "source": []
  },
  {
   "cell_type": "markdown",
   "id": "710993f4",
   "metadata": {},
   "source": [
    "#### Zadanie 8:\n",
    "\n",
    "Oblicz numerycznie całkę\n",
    "\n",
    "$$\\int\\limits_0^1dx\\int\\limits_0^xdy\\sin(\\pi\\,x)\\sin(\\pi(y-x))$$\n",
    "\n",
    "#### Rozwiązanie:"
   ]
  },
  {
   "cell_type": "code",
   "execution_count": null,
   "id": "1742cb70",
   "metadata": {},
   "outputs": [],
   "source": []
  }
 ],
 "metadata": {
  "kernelspec": {
   "display_name": "Python 3 (ipykernel)",
   "language": "python",
   "name": "python3"
  },
  "language_info": {
   "codemirror_mode": {
    "name": "ipython",
    "version": 3
   },
   "file_extension": ".py",
   "mimetype": "text/x-python",
   "name": "python",
   "nbconvert_exporter": "python",
   "pygments_lexer": "ipython3",
   "version": "3.10.12"
  }
 },
 "nbformat": 4,
 "nbformat_minor": 5
}
