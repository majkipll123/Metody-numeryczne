{
 "cells": [
  {
   "cell_type": "markdown",
   "id": "a63487e2",
   "metadata": {},
   "source": [
    "### Metody numeryczne 1 - Lista 6"
   ]
  },
  {
   "cell_type": "markdown",
   "id": "89944d84",
   "metadata": {},
   "source": [
    "#### Zadanie 1:\n",
    "\n",
    "Korzystając z metody różnicy centralnej rzędu $h^4$ oblicz pierwszą, drugą i trzecią pochodną funkcji\n",
    "\n",
    "$$f(x)=\\ln\\left(\\tanh\\left(\\,\\frac{x}{x^2+1}\\right)\\,\\right) $$\n",
    "\n",
    "w punkcie $x=0.2$. Dla jakich wartości $h$ obliczone pochodne mają największą dokładność?\n",
    "\n",
    "#### Rozwiązanie:"
   ]
  },
  {
   "cell_type": "code",
   "execution_count": 3,
   "id": "25f8f197",
   "metadata": {},
   "outputs": [
    {
     "name": "stdout",
     "output_type": "stream",
     "text": [
      "h = 0.00000001:\t1. pochodna = 4.50352691\t2. pochodna = 4.50352676\t3. pochodna = 4.50352662\n",
      "h = 0.00000010:\t1. pochodna = 4.50352812\t2. pochodna = 4.50352676\t3. pochodna = 4.50352541\n",
      "h = 0.00000100:\t1. pochodna = 4.50354033\t2. pochodna = 4.50352676\t3. pochodna = 4.50351319\n",
      "h = 0.00001000:\t1. pochodna = 4.50366247\t2. pochodna = 4.50352677\t3. pochodna = 4.50339106\n",
      "h = 0.00010000:\t1. pochodna = 4.50488425\t2. pochodna = 4.50352719\t3. pochodna = 4.50217013\n",
      "h = 0.00100000:\t1. pochodna = 4.51713995\t2. pochodna = 4.50356920\t3. pochodna = 4.48999845\n",
      "h = 0.01000000:\t1. pochodna = 4.64363849\t2. pochodna = 4.50777651\t3. pochodna = 4.37191454\n",
      "h = 0.10000000:\t1. pochodna = 6.54914864\t2. pochodna = 5.00415870\t3. pochodna = 3.45916877\n",
      "h = 1.00000000:\t1. pochodna = nan\t2. pochodna = nan\t3. pochodna = 0.87484277\n"
     ]
    },
    {
     "name": "stderr",
     "output_type": "stream",
     "text": [
      "/tmp/ipykernel_2764/2179762338.py:5: RuntimeWarning: invalid value encountered in log\n",
      "  return np.log(np.tanh(x / (x**2 + 1)))\n"
     ]
    }
   ],
   "source": [
    "import numpy as np\n",
    "\n",
    "def funkcja(x):\n",
    "    # Definicja funkcji f(x)\n",
    "    return np.log(np.tanh(x / (x**2 + 1)))\n",
    "\n",
    "# Punkt, w którym obliczamy pochodne\n",
    "x_punkt = 0.2\n",
    "\n",
    "# Zakres wartości h\n",
    "\n",
    "\"\"\"im wieksze jest h tym mniej dokladny jest wynik poniewaz krok miedzy odstepami jest wiekszy\"\"\"\n",
    "h_wartości = np.logspace(-8, 0, 9)\n",
    "\n",
    "# Obliczenia dla różnych wartości h\n",
    "for h in h_wartości:\n",
    "    # Obliczamy pochodne za pomocą numpy.gradient\n",
    "    x_wartości = np.array([x_punkt - h, x_punkt, x_punkt + h])\n",
    "    y_wartości = funkcja(x_wartości)\n",
    "    pochodne = np.gradient(y_wartości, h)\n",
    "    \n",
    "    # Wyświetlamy wyniki\n",
    "    print(f\"h = {h:.8f}:\\t1. pochodna = {pochodne[0]:.8f}\\t2. pochodna = {pochodne[1]:.8f}\\t3. pochodna = {pochodne[2]:.8f}\")\n"
   ]
  },
  {
   "cell_type": "markdown",
   "id": "736b7c02",
   "metadata": {},
   "source": [
    "#### Zadanie 2:\n",
    "\n",
    "Na podstawie danych z tabeli oblicz $f’(0.2)$ najdokładniej, jak to tylko możliwe:\n",
    "\n",
    "|$$x$$|<span style=\"font-weight:normal\"> 0.0</span>|<span style=\"font-weight:normal\"> 0.1</span>|<span style=\"font-weight:normal\"> 0.2</span>|<span style=\"font-weight:normal\"> 0.3</span>|<span style=\"font-weight:normal\"> 0.4</span>|\n",
    "|:-:|:-:|:-:|:-:|:-:|:-:|\n",
    "|$$f(x)$$ |0.0|0.078348 | 0.13891 |0.192916 |0.244981|\n",
    "\n",
    "#### Rozwiązanie:"
   ]
  },
  {
   "cell_type": "code",
   "execution_count": 1,
   "id": "86e75c63",
   "metadata": {},
   "outputs": [
    {
     "name": "stdout",
     "output_type": "stream",
     "text": [
      "f'(0.2) (Lagrange): -2.7562500000\n",
      "f'(0.2) (Numeryczna): 0.57284000\n"
     ]
    }
   ],
   "source": [
    "import numpy as np\n",
    "\n",
    "def lagrange_interpolacja(x, y, x_interp):\n",
    "    \"\"\"\n",
    "    Funkcja wykonująca interpolację Lagrange'a. zeby porownac ktora opcja jest dokladniejsza\n",
    "\n",
    "    :param x: Wartości x (wektor danych).\n",
    "    :param y: Wartości y (odpowiednie wartości funkcji dla danych x).\n",
    "    :param x_interp: Punkt, w którym chcemy policzyć interpolowaną wartość funkcji.\n",
    "    :return: Interpolowana wartość funkcji w punkcie x_interp.\n",
    "    \"\"\"\n",
    "    n = len(x)\n",
    "    wynik = 0.0\n",
    "    \n",
    "    for i in range(n):\n",
    "        skladnik = y[i]\n",
    "        for j in range(n):\n",
    "            if j != i:\n",
    "                skladnik *= 1 / (x[i] - x[j])\n",
    "        wynik += skladnik\n",
    "    \n",
    "    return wynik\n",
    "\n",
    "def pochodna_numeryczna(x, y, x_interp_point):\n",
    "\n",
    "    h = x[1] - x[0]  \n",
    "\n",
    "    idx = np.abs(x - x_interp_point).argmin()\n",
    "    if idx == 0:\n",
    "        pochodna_w_punkcie = (y[1] - y[0]) / h\n",
    "    elif idx == len(x) - 1:\n",
    "        pochodna_w_punkcie = (y[len(x) - 1] - y[len(x) - 2]) / h\n",
    "    else:\n",
    "        pochodna_w_punkcie = (y[idx + 1] - y[idx - 1]) / (2 * h)\n",
    "    \n",
    "    return pochodna_w_punkcie\n",
    "\n",
    "# Dane z tabeli\n",
    "wartosci_x = np.array([0.0, 0.1, 0.2, 0.3, 0.4])\n",
    "wartosci_y = np.array([0.0, 0.078348, 0.13891, 0.192916, 0.244981])\n",
    "\n",
    "# Punkt, w którym obliczamy pochodną\n",
    "punkt_interpolacji = 0.2\n",
    "\n",
    "# Obliczenie pochodnej za pomocą interpolacji Lagrange'a\n",
    "pochodna_lagrange = lagrange_interpolacja(wartosci_x, wartosci_y, punkt_interpolacji)\n",
    "\n",
    "# Obliczenie pochodnej za pomocą różniczki numerycznej\n",
    "pochodna_numeryczna = pochodna_numeryczna(wartosci_x, wartosci_y, punkt_interpolacji)\n",
    "\n",
    "# Wyświetlenie wyników\n",
    "print(f\"f'({punkt_interpolacji}) (Lagrange): {pochodna_lagrange:.8f}\")\n",
    "print(f\"f'({punkt_interpolacji}) (Numeryczna): {pochodna_numeryczna:.8f}\")\n"
   ]
  },
  {
   "cell_type": "markdown",
   "id": "5e9b8586",
   "metadata": {},
   "source": [
    "#### Zadanie 3:\n",
    "\n",
    "Korzystając z interpolacji wielomianowej, oblicz $f’(0)$ i $f’’(0)$, jeśli\n",
    "\n",
    "|$$x$$|<span style=\"font-weight:normal\"> -2.2</span>|<span style=\"font-weight:normal\"> -0.3</span>|<span style=\"font-weight:normal\"> 0.8</span>|<span style=\"font-weight:normal\"> 1.9</span>|\n",
    "|:-:|:-:|:-:|:-:|:-:|\n",
    "|$$f(x)$$ |-15.18 | 10.962|1.92 |-2.04|\n",
    "\n",
    "#### Rozwiązanie:"
   ]
  },
  {
   "cell_type": "code",
   "execution_count": 3,
   "id": "e95a9420",
   "metadata": {},
   "outputs": [
    {
     "name": "stdout",
     "output_type": "stream",
     "text": [
      "Wielomian interpolacyjny:\n",
      "       3         2\n",
      "2.299 x - 3.418 x - 7.638 x + 9.04\n",
      "\n",
      "f'(0): -7.637637997432609\n",
      "f''(0): -6.83568677792041\n"
     ]
    }
   ],
   "source": [
    "import numpy as np\n",
    "from scipy.interpolate import lagrange\n",
    "\n",
    "# Dane\n",
    "x_dane = np.array([-2.2, -0.3, 0.8, 1.9])\n",
    "y_dane = np.array([-15.18, 10.962, 1.92, -2.04])\n",
    "\n",
    "# Interpolacja wielomianowa Lagrange'a\n",
    "wielomian_interpolacyjny = lagrange(x_dane, y_dane)\n",
    "\n",
    "# Pochodna pierwsza\n",
    "wielomian_pochodna_1 = np.polyder(wielomian_interpolacyjny)\n",
    "\n",
    "# Pochodna druga\n",
    "wielomian_pochodna_2 = np.polyder(wielomian_pochodna_1)\n",
    "\n",
    "# Obliczenia dla x = 0\n",
    "f_pierwsza_pochodna_0 = np.polyval(wielomian_pochodna_1, 0)\n",
    "f_druga_pochodna_0 = np.polyval(wielomian_pochodna_2, 0)\n",
    "\n",
    "# Wydruk całego wielomianu\n",
    "print(\"Wielomian interpolacyjny:\")\n",
    "print(np.poly1d(wielomian_interpolacyjny))\n",
    "\n",
    "# Wyniki\n",
    "print(\"\\nf'(0):\", f_pierwsza_pochodna_0)\n",
    "print(\"f''(0):\", f_druga_pochodna_0)\n"
   ]
  },
  {
   "cell_type": "markdown",
   "id": "bbca94c0",
   "metadata": {},
   "source": [
    "#### Zadanie 4:\n",
    "\n",
    "Oblicz całkę\n",
    "\n",
    "$$\\int\\limits^{1}\\limits_{-1}\\cos\\left(2\\cos^{-1}\\,x\\right)dx$$\n",
    "\n",
    "korzystając ze wzoru Simpsona dla 3, 5 i 7 węzłów. Wyjaśnij wyniki.\n",
    "\n",
    "\n",
    "#### Rozwiązanie:"
   ]
  },
  {
   "cell_type": "code",
   "execution_count": 3,
   "id": "c55de682",
   "metadata": {},
   "outputs": [
    {
     "name": "stdout",
     "output_type": "stream",
     "text": [
      "Ciąg Simpsona dla 3 węzłów: -0.5925925925925926\n",
      "Ciąg Simpsona dla 5 węzłów: -0.6933333333333334\n",
      "Ciąg Simpsona dla 7 węzłów: -0.707482993197279\n"
     ]
    }
   ],
   "source": [
    "import numpy as np\n",
    "\n",
    "def funkcja(x):\n",
    "    return np.cos(2 * np.arccos(x))\n",
    "\n",
    "def wzor_simpsona(f, a, b, n):\n",
    "    h = (b - a) / n\n",
    "    wynik = f(a) + f(b)\n",
    "    \n",
    "    for i in range(1, n):\n",
    "        x = a + i * h\n",
    "        if i % 2 == 0:\n",
    "            wynik += 2 * f(x)\n",
    "        else:\n",
    "            wynik += 4 * f(x)\n",
    "    \n",
    "    return (h / 3) * wynik\n",
    "\n",
    "# Granice całkowania\n",
    "a, b = -1, 1\n",
    "\n",
    "# Obliczenia dla 3, 5 i 7 węzłów\n",
    "for n in [3, 5, 7]:\n",
    "    wynik = wzor_simpsona(funkcja, a, b, n)\n",
    "    print(f'Ciąg Simpsona dla {n} węzłów: {wynik}')\n"
   ]
  },
  {
   "cell_type": "markdown",
   "id": "ebbcb594",
   "metadata": {},
   "source": [
    "#### Zadanie 5:\n",
    "\n",
    "Okres $T$ wahadła matematycznego o długości $L$ zadany jest wzorem\n",
    "\n",
    "$$T=4\\sqrt{\\frac{L}{g}}h(\\theta_0)\\,,$$\n",
    "\n",
    "\n",
    "gdzie $g$ to przyspieszenie ziemskie, a $\\theta_0$ to amplituda oraz\n",
    "\n",
    "$$h(\\theta_0)=\\int\\limits_0^{\\pi/2}\\frac{d\\theta}{1-\\sin^2\\left(\\frac{\\theta_0}{2}\\right)\\sin^2\\theta}\\,.$$\n",
    "\n",
    "Oblicz $h(15^\\circ)$, $h(30^\\circ)$ i $h(45^\\circ)$. Porównaj te wartości z $h(0) = \\pi/2$ stosowanym\n",
    "w przybliżeniu harmonicznym.\n",
    "\n",
    "#### Rozwiązanie:"
   ]
  },
  {
   "cell_type": "code",
   "execution_count": 1,
   "id": "aa724e26",
   "metadata": {},
   "outputs": [
    {
     "name": "stdout",
     "output_type": "stream",
     "text": [
      "h(15°): 1.5843506663782583\n",
      "h(30°): 1.6262080214064094\n",
      "h(45°): 1.7002176923707382\n",
      "h(0°) (harmoniczne): 1.5707963267948966\n"
     ]
    }
   ],
   "source": [
    "import numpy as np\n",
    "from scipy.integrate import quad\n",
    "\n",
    "# Funkcja podcałkowa h(theta_0)\n",
    "def integrand(theta, theta_0):\n",
    "    return 1 / (1 - np.sin(theta_0 / 2)**2 * np.sin(theta)**2)\n",
    "\n",
    "# Funkcja całkująca h(theta_0)\n",
    "def h(theta_0):\n",
    "    wynik, _ = quad(integrand, 0, np.pi/2, args=(theta_0,))\n",
    "    return wynik\n",
    "\n",
    "# Kąty w stopniach\n",
    "theta_values = [15, 30, 45]\n",
    "\n",
    "# Obliczenia dla różnych wartości theta_0\n",
    "for theta_0_deg in theta_values:\n",
    "    theta_0_rad = np.radians(theta_0_deg)\n",
    "    wynik = h(theta_0_rad)\n",
    "    print(f\"h({theta_0_deg}°): {wynik}\")\n",
    "\n",
    "# Wartość h(0) w przybliżeniu harmonicznym\n",
    "h_approx_harmonic = np.pi / 2\n",
    "print(f\"h(0°) (harmoniczne): {h_approx_harmonic}\")\n"
   ]
  },
  {
   "cell_type": "markdown",
   "id": "370f3178",
   "metadata": {},
   "source": [
    "#### Zadanie 6:\n",
    "\n",
    "Oblicz całkę\n",
    "\n",
    "\n",
    "$$\\int\\limits^{\\pi}_1\\frac{\\ln\\,x}{x^2-2x+2}dx$$\n",
    "\n",
    "metodą Gaussa-Legendre’a dla 2 i 4 węzłów.\n",
    "\n",
    "#### Rozwiązanie:"
   ]
  },
  {
   "cell_type": "code",
   "execution_count": 5,
   "id": "eecfbe8d",
   "metadata": {},
   "outputs": [
    {
     "name": "stdout",
     "output_type": "stream",
     "text": [
      "Ciąg wynikowy dla 2 węzłów: 1.2134500457248976\n",
      "Ciąg wynikowy dla 4 węzłów: 1.1695360724254182\n"
     ]
    }
   ],
   "source": [
    "import numpy as np\n",
    "from scipy.integrate import quad\n",
    "from scipy.special import roots_legendre\n",
    "\n",
    "# Funkcja podcałkowa\n",
    "def funkcja_podcalkowa(x):\n",
    "    return np.log(x) / (x**2 - 2*x + 2)\n",
    "\n",
    "# Granice całkowania\n",
    "a, b = 1, np.pi\n",
    "\n",
    "# Obliczenia dla różnej liczby węzłów\n",
    "for n in [2, 4]:\n",
    "    # Węzły i wagi dla metody Gaussa-Legendre'a\n",
    "    wezly, wagi = roots_legendre(n)\n",
    "\n",
    "    # Przekształcenie przedziału całkowania\n",
    "    x_przekształcone = 0.5 * (b - a) * wezly + 0.5 * (b + a)\n",
    "\n",
    "    # Obliczenia całki z wykorzystaniem węzłów i wag\n",
    "    wynik, _ = quad(lambda x: funkcja_podcalkowa(x_przekształcone) @ wagi, -1, 1)\n",
    "\n",
    "    # Skalowanie wyniku do oryginalnego przedziału\n",
    "    wynik *= 0.5 * (b - a)\n",
    "\n",
    "    print(f\"Ciąg wynikowy dla {n} węzłów: {wynik}\")\n"
   ]
  },
  {
   "cell_type": "markdown",
   "id": "6780cd35",
   "metadata": {},
   "source": [
    "#### Zadanie 7:\n",
    "\n",
    "Oblicz całkę\n",
    "\n",
    "\n",
    "$$\\int\\limits^1_{-1}\\frac{\\cos\\,x-e^x}{\\sin\\,x}dx$$\n",
    "\n",
    "z co najmniej 10 dokładnymi cyframi dziesiętnymi\n",
    "\n",
    "#### Rozwiązanie:"
   ]
  },
  {
   "cell_type": "code",
   "execution_count": 9,
   "id": "d6ce23cc",
   "metadata": {},
   "outputs": [
    {
     "name": "stdout",
     "output_type": "stream",
     "text": [
      "Wynik całki: -3.694742746132549\n",
      "Błąd oszacowania: 4.101988466823135e-14\n"
     ]
    }
   ],
   "source": [
    "import numpy as np\n",
    "from scipy.integrate import quad\n",
    "\n",
    "def funkcja_podcalkowa(x):\n",
    "    if np.sin(x) == 0:\n",
    "        return np.nan\n",
    "    return (np.cos(x) - np.exp(x)) / np.sin(x)\n",
    "\n",
    "a = 0\n",
    "b = np.pi / 2\n",
    "\n",
    "wynik, blad = quad(funkcja_podcalkowa, a, b, epsabs=1e-10)\n",
    "\n",
    "print(\"Wynik całki:\", wynik)\n",
    "print(\"Błąd oszacowania:\", blad)\n"
   ]
  },
  {
   "cell_type": "markdown",
   "id": "710993f4",
   "metadata": {},
   "source": [
    "#### Zadanie 8:\n",
    "\n",
    "Oblicz numerycznie całkę\n",
    "\n",
    "$$\\int\\limits_0^1dx\\int\\limits_0^xdy\\sin(\\pi\\,x)\\sin(\\pi(y-x))$$\n",
    "\n",
    "#### Rozwiązanie:"
   ]
  },
  {
   "cell_type": "code",
   "execution_count": 7,
   "id": "1742cb70",
   "metadata": {},
   "outputs": [
    {
     "name": "stdout",
     "output_type": "stream",
     "text": [
      "Wynik całki: -0.20264236728467555\n",
      "wynik w postaci ułamkowej to -180865/892533\n",
      "Błąd oszacowania: 4.573777221726562e-15\n"
     ]
    }
   ],
   "source": [
    "from scipy.integrate import dblquad\n",
    "import numpy as np\n",
    "from fractions import Fraction\n",
    "\n",
    "# Funkcja podcałkowa\n",
    "def integrand(y, x):\n",
    "    return np.sin(np.pi * x) * np.sin(np.pi * (y - x))\n",
    "\n",
    "# Granice całkowania\n",
    "x_lower = 0\n",
    "x_upper = 1\n",
    "\n",
    "y_lower = lambda x: 0\n",
    "y_upper = lambda x: x\n",
    "\n",
    "# Obliczenia całki\n",
    "wynik, blad = dblquad(integrand, x_lower, x_upper, y_lower, y_upper)\n",
    "\n",
    "wynik_ulamek = Fraction(wynik).limit_denominator()\n",
    "print(f\"Wynik całki: {wynik}\")\n",
    "print(f\"wynik w postaci ułamkowej to {wynik_ulamek}\")\n",
    "print(f\"Błąd oszacowania: {blad}\")\n"
   ]
  }
 ],
 "metadata": {
  "kernelspec": {
   "display_name": "Python 3 (ipykernel)",
   "language": "python",
   "name": "python3"
  },
  "language_info": {
   "codemirror_mode": {
    "name": "ipython",
    "version": 3
   },
   "file_extension": ".py",
   "mimetype": "text/x-python",
   "name": "python",
   "nbconvert_exporter": "python",
   "pygments_lexer": "ipython3",
   "version": "3.10.12"
  }
 },
 "nbformat": 4,
 "nbformat_minor": 5
}
